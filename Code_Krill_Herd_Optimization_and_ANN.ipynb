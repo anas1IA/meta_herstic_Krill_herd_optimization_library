{
  "cells": [
    {
      "cell_type": "markdown",
      "metadata": {
        "id": "view-in-github",
        "colab_type": "text"
      },
      "source": [
        "<a href=\"https://colab.research.google.com/github/anas1IA/meta_herstic_Krill_herd_optimization_library/blob/master/Code_Krill_Herd_Optimization_and_ANN.ipynb\" target=\"_parent\"><img src=\"https://colab.research.google.com/assets/colab-badge.svg\" alt=\"Open In Colab\"/></a>"
      ]
    },
    {
      "cell_type": "markdown",
      "metadata": {
        "papermill": {
          "duration": 0.012295,
          "end_time": "2020-11-24T15:33:44.585418",
          "exception": false,
          "start_time": "2020-11-24T15:33:44.573123",
          "status": "completed"
        },
        "tags": [],
        "id": "7VfOATRQTs2w"
      },
      "source": [
        "### <center> <ins >Branch: 2IA </ins ></center>\n",
        "# <center style= \"color:red \"> Training neural networks with Krill Herd.</center>\n",
        "### <center> <ins >ANAS  NOURI <br><br>Pr. YASSER EL MADANI EL ALAMI </ins ></center>"
      ]
    },
    {
      "cell_type": "markdown",
      "metadata": {
        "id": "efzUhZ6JTs20"
      },
      "source": [
        "# <font color='blue'><u> I. Libraries Used:</u></font> <br>"
      ]
    },
    {
      "cell_type": "code",
      "execution_count": null,
      "metadata": {
        "id": "izcT4lEuTs21"
      },
      "outputs": [],
      "source": [
        "import numpy as np\n",
        "import pandas as pd\n",
        "from matplotlib import pyplot as plt\n",
        "import numpy as np\n",
        "from sklearn.datasets import load_iris\n",
        "import time as t"
      ]
    },
    {
      "cell_type": "markdown",
      "metadata": {
        "id": "Wgim1FAUTs22"
      },
      "source": [
        "# <font color='blue'><u> II. Source Code:</u></font> <br>"
      ]
    },
    {
      "cell_type": "code",
      "execution_count": null,
      "metadata": {
        "_cell_guid": "b1076dfc-b9ad-4769-8c92-a6c4dae69d19",
        "_uuid": "8f2839f25d086af736a60e9eeb907d3b93b6e0e5",
        "execution": {
          "iopub.execute_input": "2020-11-24T15:33:44.617819Z",
          "iopub.status.busy": "2020-11-24T15:33:44.616734Z",
          "iopub.status.idle": "2020-11-24T15:33:48.545917Z",
          "shell.execute_reply": "2020-11-24T15:33:48.545192Z"
        },
        "papermill": {
          "duration": 3.947576,
          "end_time": "2020-11-24T15:33:48.546057",
          "exception": false,
          "start_time": "2020-11-24T15:33:44.598481",
          "status": "completed"
        },
        "tags": [],
        "id": "RTNdF8jFTs23"
      },
      "outputs": [],
      "source": [
        "data= load_iris()\n",
        "y = data.target"
      ]
    },
    {
      "cell_type": "code",
      "execution_count": null,
      "metadata": {
        "colab": {
          "base_uri": "https://localhost:8080/"
        },
        "id": "-z2127ljTs23",
        "outputId": "7c2408eb-d173-43f6-e877-f0ae85b04d27"
      },
      "outputs": [
        {
          "output_type": "stream",
          "name": "stdout",
          "text": [
            "[0 0 0 0 0 0 0 0 0 0 0 0 0 0 0 0 0 0 0 0 0 0 0 0 0 0 0 0 0 0 0 0 0 0 0 0 0\n",
            " 0 0 0 0 0 0 0 0 0 0 0 0 0 1 1 1 1 1 1 1 1 1 1 1 1 1 1 1 1 1 1 1 1 1 1 1 1\n",
            " 1 1 1 1 1 1 1 1 1 1 1 1 1 1 1 1 1 1 1 1 1 1 1 1 1 1 2 2 2 2 2 2 2 2 2 2 2\n",
            " 2 2 2 2 2 2 2 2 2 2 2 2 2 2 2 2 2 2 2 2 2 2 2 2 2 2 2 2 2 2 2 2 2 2 2 2 2\n",
            " 2 2]\n"
          ]
        }
      ],
      "source": [
        "y.shape\n",
        "print(y)"
      ]
    },
    {
      "cell_type": "code",
      "execution_count": null,
      "metadata": {
        "id": "ySvGyISeTs24"
      },
      "outputs": [],
      "source": [
        "data1= data.data"
      ]
    },
    {
      "cell_type": "code",
      "execution_count": null,
      "metadata": {
        "colab": {
          "base_uri": "https://localhost:8080/"
        },
        "id": "rA8i8BxyTs24",
        "outputId": "b9799f1b-ca3f-457b-f089-3013969d6888"
      },
      "outputs": [
        {
          "output_type": "execute_result",
          "data": {
            "text/plain": [
              "array([[5.1, 3.5, 1.4, 0.2],\n",
              "       [4.9, 3. , 1.4, 0.2],\n",
              "       [4.7, 3.2, 1.3, 0.2],\n",
              "       [4.6, 3.1, 1.5, 0.2],\n",
              "       [5. , 3.6, 1.4, 0.2],\n",
              "       [5.4, 3.9, 1.7, 0.4],\n",
              "       [4.6, 3.4, 1.4, 0.3],\n",
              "       [5. , 3.4, 1.5, 0.2],\n",
              "       [4.4, 2.9, 1.4, 0.2],\n",
              "       [4.9, 3.1, 1.5, 0.1],\n",
              "       [5.4, 3.7, 1.5, 0.2],\n",
              "       [4.8, 3.4, 1.6, 0.2],\n",
              "       [4.8, 3. , 1.4, 0.1],\n",
              "       [4.3, 3. , 1.1, 0.1],\n",
              "       [5.8, 4. , 1.2, 0.2],\n",
              "       [5.7, 4.4, 1.5, 0.4],\n",
              "       [5.4, 3.9, 1.3, 0.4],\n",
              "       [5.1, 3.5, 1.4, 0.3],\n",
              "       [5.7, 3.8, 1.7, 0.3],\n",
              "       [5.1, 3.8, 1.5, 0.3],\n",
              "       [5.4, 3.4, 1.7, 0.2],\n",
              "       [5.1, 3.7, 1.5, 0.4],\n",
              "       [4.6, 3.6, 1. , 0.2],\n",
              "       [5.1, 3.3, 1.7, 0.5],\n",
              "       [4.8, 3.4, 1.9, 0.2],\n",
              "       [5. , 3. , 1.6, 0.2],\n",
              "       [5. , 3.4, 1.6, 0.4],\n",
              "       [5.2, 3.5, 1.5, 0.2],\n",
              "       [5.2, 3.4, 1.4, 0.2],\n",
              "       [4.7, 3.2, 1.6, 0.2],\n",
              "       [4.8, 3.1, 1.6, 0.2],\n",
              "       [5.4, 3.4, 1.5, 0.4],\n",
              "       [5.2, 4.1, 1.5, 0.1],\n",
              "       [5.5, 4.2, 1.4, 0.2],\n",
              "       [4.9, 3.1, 1.5, 0.2],\n",
              "       [5. , 3.2, 1.2, 0.2],\n",
              "       [5.5, 3.5, 1.3, 0.2],\n",
              "       [4.9, 3.6, 1.4, 0.1],\n",
              "       [4.4, 3. , 1.3, 0.2],\n",
              "       [5.1, 3.4, 1.5, 0.2],\n",
              "       [5. , 3.5, 1.3, 0.3],\n",
              "       [4.5, 2.3, 1.3, 0.3],\n",
              "       [4.4, 3.2, 1.3, 0.2],\n",
              "       [5. , 3.5, 1.6, 0.6],\n",
              "       [5.1, 3.8, 1.9, 0.4],\n",
              "       [4.8, 3. , 1.4, 0.3],\n",
              "       [5.1, 3.8, 1.6, 0.2],\n",
              "       [4.6, 3.2, 1.4, 0.2],\n",
              "       [5.3, 3.7, 1.5, 0.2],\n",
              "       [5. , 3.3, 1.4, 0.2],\n",
              "       [7. , 3.2, 4.7, 1.4],\n",
              "       [6.4, 3.2, 4.5, 1.5],\n",
              "       [6.9, 3.1, 4.9, 1.5],\n",
              "       [5.5, 2.3, 4. , 1.3],\n",
              "       [6.5, 2.8, 4.6, 1.5],\n",
              "       [5.7, 2.8, 4.5, 1.3],\n",
              "       [6.3, 3.3, 4.7, 1.6],\n",
              "       [4.9, 2.4, 3.3, 1. ],\n",
              "       [6.6, 2.9, 4.6, 1.3],\n",
              "       [5.2, 2.7, 3.9, 1.4],\n",
              "       [5. , 2. , 3.5, 1. ],\n",
              "       [5.9, 3. , 4.2, 1.5],\n",
              "       [6. , 2.2, 4. , 1. ],\n",
              "       [6.1, 2.9, 4.7, 1.4],\n",
              "       [5.6, 2.9, 3.6, 1.3],\n",
              "       [6.7, 3.1, 4.4, 1.4],\n",
              "       [5.6, 3. , 4.5, 1.5],\n",
              "       [5.8, 2.7, 4.1, 1. ],\n",
              "       [6.2, 2.2, 4.5, 1.5],\n",
              "       [5.6, 2.5, 3.9, 1.1],\n",
              "       [5.9, 3.2, 4.8, 1.8],\n",
              "       [6.1, 2.8, 4. , 1.3],\n",
              "       [6.3, 2.5, 4.9, 1.5],\n",
              "       [6.1, 2.8, 4.7, 1.2],\n",
              "       [6.4, 2.9, 4.3, 1.3],\n",
              "       [6.6, 3. , 4.4, 1.4],\n",
              "       [6.8, 2.8, 4.8, 1.4],\n",
              "       [6.7, 3. , 5. , 1.7],\n",
              "       [6. , 2.9, 4.5, 1.5],\n",
              "       [5.7, 2.6, 3.5, 1. ],\n",
              "       [5.5, 2.4, 3.8, 1.1],\n",
              "       [5.5, 2.4, 3.7, 1. ],\n",
              "       [5.8, 2.7, 3.9, 1.2],\n",
              "       [6. , 2.7, 5.1, 1.6],\n",
              "       [5.4, 3. , 4.5, 1.5],\n",
              "       [6. , 3.4, 4.5, 1.6],\n",
              "       [6.7, 3.1, 4.7, 1.5],\n",
              "       [6.3, 2.3, 4.4, 1.3],\n",
              "       [5.6, 3. , 4.1, 1.3],\n",
              "       [5.5, 2.5, 4. , 1.3],\n",
              "       [5.5, 2.6, 4.4, 1.2],\n",
              "       [6.1, 3. , 4.6, 1.4],\n",
              "       [5.8, 2.6, 4. , 1.2],\n",
              "       [5. , 2.3, 3.3, 1. ],\n",
              "       [5.6, 2.7, 4.2, 1.3],\n",
              "       [5.7, 3. , 4.2, 1.2],\n",
              "       [5.7, 2.9, 4.2, 1.3],\n",
              "       [6.2, 2.9, 4.3, 1.3],\n",
              "       [5.1, 2.5, 3. , 1.1],\n",
              "       [5.7, 2.8, 4.1, 1.3],\n",
              "       [6.3, 3.3, 6. , 2.5],\n",
              "       [5.8, 2.7, 5.1, 1.9],\n",
              "       [7.1, 3. , 5.9, 2.1],\n",
              "       [6.3, 2.9, 5.6, 1.8],\n",
              "       [6.5, 3. , 5.8, 2.2],\n",
              "       [7.6, 3. , 6.6, 2.1],\n",
              "       [4.9, 2.5, 4.5, 1.7],\n",
              "       [7.3, 2.9, 6.3, 1.8],\n",
              "       [6.7, 2.5, 5.8, 1.8],\n",
              "       [7.2, 3.6, 6.1, 2.5],\n",
              "       [6.5, 3.2, 5.1, 2. ],\n",
              "       [6.4, 2.7, 5.3, 1.9],\n",
              "       [6.8, 3. , 5.5, 2.1],\n",
              "       [5.7, 2.5, 5. , 2. ],\n",
              "       [5.8, 2.8, 5.1, 2.4],\n",
              "       [6.4, 3.2, 5.3, 2.3],\n",
              "       [6.5, 3. , 5.5, 1.8],\n",
              "       [7.7, 3.8, 6.7, 2.2],\n",
              "       [7.7, 2.6, 6.9, 2.3],\n",
              "       [6. , 2.2, 5. , 1.5],\n",
              "       [6.9, 3.2, 5.7, 2.3],\n",
              "       [5.6, 2.8, 4.9, 2. ],\n",
              "       [7.7, 2.8, 6.7, 2. ],\n",
              "       [6.3, 2.7, 4.9, 1.8],\n",
              "       [6.7, 3.3, 5.7, 2.1],\n",
              "       [7.2, 3.2, 6. , 1.8],\n",
              "       [6.2, 2.8, 4.8, 1.8],\n",
              "       [6.1, 3. , 4.9, 1.8],\n",
              "       [6.4, 2.8, 5.6, 2.1],\n",
              "       [7.2, 3. , 5.8, 1.6],\n",
              "       [7.4, 2.8, 6.1, 1.9],\n",
              "       [7.9, 3.8, 6.4, 2. ],\n",
              "       [6.4, 2.8, 5.6, 2.2],\n",
              "       [6.3, 2.8, 5.1, 1.5],\n",
              "       [6.1, 2.6, 5.6, 1.4],\n",
              "       [7.7, 3. , 6.1, 2.3],\n",
              "       [6.3, 3.4, 5.6, 2.4],\n",
              "       [6.4, 3.1, 5.5, 1.8],\n",
              "       [6. , 3. , 4.8, 1.8],\n",
              "       [6.9, 3.1, 5.4, 2.1],\n",
              "       [6.7, 3.1, 5.6, 2.4],\n",
              "       [6.9, 3.1, 5.1, 2.3],\n",
              "       [5.8, 2.7, 5.1, 1.9],\n",
              "       [6.8, 3.2, 5.9, 2.3],\n",
              "       [6.7, 3.3, 5.7, 2.5],\n",
              "       [6.7, 3. , 5.2, 2.3],\n",
              "       [6.3, 2.5, 5. , 1.9],\n",
              "       [6.5, 3. , 5.2, 2. ],\n",
              "       [6.2, 3.4, 5.4, 2.3],\n",
              "       [5.9, 3. , 5.1, 1.8]])"
            ]
          },
          "metadata": {},
          "execution_count": 496
        }
      ],
      "source": [
        "data1"
      ]
    },
    {
      "cell_type": "code",
      "execution_count": null,
      "metadata": {
        "id": "5xharZB1Ts24"
      },
      "outputs": [],
      "source": [
        "data2 = np.concatenate((data1,y.reshape(150,1)), axis=1)"
      ]
    },
    {
      "cell_type": "code",
      "execution_count": null,
      "metadata": {
        "colab": {
          "base_uri": "https://localhost:8080/"
        },
        "id": "BW7gNzVOTs25",
        "outputId": "5c8ba631-f62e-4d24-ef74-3596a528f097"
      },
      "outputs": [
        {
          "output_type": "execute_result",
          "data": {
            "text/plain": [
              "array([0, 1, 2])"
            ]
          },
          "metadata": {},
          "execution_count": 498
        }
      ],
      "source": [
        "np.unique(y)"
      ]
    },
    {
      "cell_type": "code",
      "execution_count": null,
      "metadata": {
        "colab": {
          "base_uri": "https://localhost:8080/"
        },
        "id": "20199q0zTs25",
        "outputId": "abfc0b37-566c-4854-eaed-f386e9b45948"
      },
      "outputs": [
        {
          "output_type": "stream",
          "name": "stdout",
          "text": [
            "150 5\n"
          ]
        }
      ],
      "source": [
        "m, n = data2.shape\n",
        "print(m, n)"
      ]
    },
    {
      "cell_type": "code",
      "execution_count": null,
      "metadata": {
        "execution": {
          "iopub.execute_input": "2020-11-24T15:33:48.577955Z",
          "iopub.status.busy": "2020-11-24T15:33:48.576778Z",
          "iopub.status.idle": "2020-11-24T15:33:49.353469Z",
          "shell.execute_reply": "2020-11-24T15:33:49.352724Z"
        },
        "papermill": {
          "duration": 0.795759,
          "end_time": "2020-11-24T15:33:49.353603",
          "exception": false,
          "start_time": "2020-11-24T15:33:48.557844",
          "status": "completed"
        },
        "tags": [],
        "id": "xd3VdwCWTs26"
      },
      "outputs": [],
      "source": [
        "#suffle data\n",
        "np.random.shuffle(data2)\n",
        "data_dev = data2[0:30].T\n",
        "Y_dev = data_dev[-1]\n",
        "X_dev = data_dev[:n-1]\n",
        "# normalize X_dev\n",
        "\"\"\" from sklearn.preprocessing import StandardScaler\n",
        "scaler = StandardScaler()\n",
        "X_dev = scaler.fit_transform(X_dev) \"\"\"\n",
        "\n",
        "data_train = data2[30:m].T\n",
        "Y_train = data_train[-1]\n",
        "X_train = data_train[:n-1]\n",
        "_,m_train = X_train.shape"
      ]
    },
    {
      "cell_type": "code",
      "execution_count": null,
      "metadata": {
        "execution": {
          "iopub.execute_input": "2020-11-24T15:33:49.385574Z",
          "iopub.status.busy": "2020-11-24T15:33:49.384483Z",
          "iopub.status.idle": "2020-11-24T15:33:49.388342Z",
          "shell.execute_reply": "2020-11-24T15:33:49.388923Z"
        },
        "papermill": {
          "duration": 0.023743,
          "end_time": "2020-11-24T15:33:49.389054",
          "exception": false,
          "start_time": "2020-11-24T15:33:49.365311",
          "status": "completed"
        },
        "tags": [],
        "id": "znOkADCSTs27"
      },
      "outputs": [],
      "source": [
        "Y_train = Y_train.astype(int)\n",
        "Y_dev = Y_dev.astype(int)"
      ]
    },
    {
      "cell_type": "markdown",
      "metadata": {
        "papermill": {
          "duration": 0.011724,
          "end_time": "2020-11-24T15:33:49.413261",
          "exception": false,
          "start_time": "2020-11-24T15:33:49.401537",
          "status": "completed"
        },
        "tags": [],
        "id": "j51M5v2FTs27"
      },
      "source": [
        "Our NN will have a simple two-layer architecture. Input layer $a^{[0]}$ will have 784 units corresponding to the 4 pixels in each 28x28 input image. A hidden layer $a^{[1]}$ will have 10 units with ReLU activation, and finally our output layer $a^{[2]}$ will have 10 units corresponding to the ten digit classes with softmax activation.\n",
        "\n",
        "**Forward propagation**\n",
        "\n",
        "\n",
        "$$Z^{[1]} = W^{[1]} X + b^{[1]}$$\n",
        "$$A^{[1]} = g_{\\text{ReLU}}(Z^{[1]}))$$\n",
        "$$Z^{[2]} = W^{[2]} A^{[1]} + b^{[2]}$$\n",
        "$$A^{[2]} = g_{\\text{softmax}}(Z^{[2]})$$\n",
        "\n",
        "**Backward propagation**\n",
        "\n",
        "$$dZ^{[2]} = A^{[2]} - Y$$\n",
        "$$dW^{[2]} = \\frac{1}{m} dZ^{[2]} A^{[1]T}$$\n",
        "$$dB^{[2]} = \\frac{1}{m} \\Sigma {dZ^{[2]}}$$\n",
        "$$dZ^{[1]} = W^{[2]T} dZ^{[2]} .* g^{[1]\\prime} (z^{[1]})$$\n",
        "$$dW^{[1]} = \\frac{1}{m} dZ^{[1]} A^{[0]T}$$\n",
        "$$dB^{[1]} = \\frac{1}{m} \\Sigma {dZ^{[1]}}$$\n",
        "\n",
        "**Parameter updates**\n",
        "\n",
        "$$W^{[2]} := W^{[2]} - \\alpha dW^{[2]}$$\n",
        "$$b^{[2]} := b^{[2]} - \\alpha db^{[2]}$$\n",
        "$$W^{[1]} := W^{[1]} - \\alpha dW^{[1]}$$\n",
        "$$b^{[1]} := b^{[1]} - \\alpha db^{[1]}$$\n",
        "\n",
        "**Vars and shapes**\n",
        "\n",
        "Forward prop\n",
        "\n",
        "- $A^{[0]} = X$: 784 x m\n",
        "- $Z^{[1]} \\sim A^{[1]}$: 10 x m\n",
        "- $W^{[1]}$: 10 x 784 (as $W^{[1]} A^{[0]} \\sim Z^{[1]}$)\n",
        "- $B^{[1]}$: 10 x 1\n",
        "- $Z^{[2]} \\sim A^{[2]}$: 10 x m\n",
        "- $W^{[1]}$: 10 x 10 (as $W^{[2]} A^{[1]} \\sim Z^{[2]}$)\n",
        "- $B^{[2]}$: 10 x 1\n",
        "\n",
        "Backprop\n",
        "\n",
        "- $dZ^{[2]}$: 10 x m ($~A^{[2]}$)\n",
        "- $dW^{[2]}$: 10 x 10\n",
        "- $dB^{[2]}$: 10 x 1\n",
        "- $dZ^{[1]}$: 10 x m ($~A^{[1]}$)\n",
        "- $dW^{[1]}$: 10 x 10\n",
        "- $dB^{[1]}$: 10 x 1"
      ]
    },
    {
      "cell_type": "code",
      "execution_count": null,
      "metadata": {
        "execution": {
          "iopub.execute_input": "2020-11-24T15:33:49.458553Z",
          "iopub.status.busy": "2020-11-24T15:33:49.457534Z",
          "iopub.status.idle": "2020-11-24T15:33:49.460243Z",
          "shell.execute_reply": "2020-11-24T15:33:49.460754Z"
        },
        "papermill": {
          "duration": 0.035762,
          "end_time": "2020-11-24T15:33:49.460906",
          "exception": false,
          "start_time": "2020-11-24T15:33:49.425144",
          "status": "completed"
        },
        "tags": [],
        "id": "nBkH3rKXTs28"
      },
      "outputs": [],
      "source": [
        "def init_params():\n",
        "    W1 = np.random.rand(10, 4) - 0.5 # 10 neurons, 4 features\n",
        "    b1 = np.random.rand(10, 1) - 0.5\n",
        "    W2 = np.random.rand(10, 3) - 0.5 # 10 neurons, 3 probabilities using softmax\n",
        "    b2 = np.random.rand(3, 1) - 0.5\n",
        "    return W1, b1, W2, b2\n",
        "\n",
        "def ReLU(Z):\n",
        "    return np.maximum(Z, 0)\n",
        "\n",
        "def softmax(Z):\n",
        "    A = np.exp(Z) / sum(np.exp(Z))\n",
        "    return A\n",
        "\n",
        "def forward_prop(W1, b1, W2, b2, X):\n",
        "    Z1 = W1.dot(X) + b1\n",
        "    A1 = ReLU(Z1)\n",
        "    Z2 = (W2.T).dot(A1) + b2\n",
        "    A2 = softmax(Z2)\n",
        "    return Z1, A1, Z2, A2\n",
        "\n",
        "def ReLU_deriv(Z):\n",
        "    return Z > 0\n",
        "\n",
        "def one_hot(Y):\n",
        "    one_hot_Y = np.zeros((Y.size, int(Y.max()) + 1))\n",
        "    one_hot_Y[np.arange(Y.size), Y] = 1\n",
        "    one_hot_Y = one_hot_Y.T\n",
        "    return one_hot_Y\n",
        "\n",
        "def backward_prop(Z1, A1, Z2, A2, W1, W2, X, Y):\n",
        "    one_hot_Y = one_hot(Y)\n",
        "    dZ2 = A2 - one_hot_Y\n",
        "    dW2 = 1 / m * dZ2.dot(A1.T)\n",
        "    db2 = 1 / m * np.sum(dZ2)\n",
        "    dZ1 = W2.dot(dZ2) * ReLU_deriv(Z1)\n",
        "    dW1 = 1 / m * dZ1.dot(X.T)\n",
        "    db1 = 1 / m * np.sum(dZ1)\n",
        "    return dW1, db1, dW2, db2\n",
        "\n",
        "def update_params(W1, b1, W2, b2, dW1, db1, dW2, db2, alpha):\n",
        "    W1 = W1 - alpha * dW1\n",
        "    b1 = b1 - alpha * db1\n",
        "    W2 = W2 - alpha * dW2.T\n",
        "    b2 = b2 - alpha * db2\n",
        "    return W1, b1, W2, b2"
      ]
    },
    {
      "cell_type": "code",
      "execution_count": null,
      "metadata": {
        "execution": {
          "iopub.execute_input": "2020-11-24T15:33:49.496820Z",
          "iopub.status.busy": "2020-11-24T15:33:49.493109Z",
          "iopub.status.idle": "2020-11-24T15:33:49.499268Z",
          "shell.execute_reply": "2020-11-24T15:33:49.499782Z"
        },
        "papermill": {
          "duration": 0.026744,
          "end_time": "2020-11-24T15:33:49.499906",
          "exception": false,
          "start_time": "2020-11-24T15:33:49.473162",
          "status": "completed"
        },
        "tags": [],
        "id": "rL5OzCnwTs29"
      },
      "outputs": [],
      "source": [
        "def get_predictions(A2):\n",
        "    return np.argmax(A2, 0)\n",
        "\n",
        "def get_accuracy(predictions, Y):\n",
        "    #print(predictions, Y)\n",
        "    return np.sum(predictions == Y) / Y.size\n",
        "\n",
        "def gradient_descent(X, Y, alpha, iterations):\n",
        "    W1, b1, W2, b2 = init_params()\n",
        "    for i in range(iterations):\n",
        "        Z1, A1, Z2, A2 = forward_prop(W1, b1, W2, b2, X)\n",
        "        dW1, db1, dW2, db2 = backward_prop(Z1, A1, Z2, A2, W1, W2, X, Y)\n",
        "        W1, b1, W2, b2 = update_params(W1, b1, W2, b2, dW1, db1, dW2, db2, alpha)\n",
        "        if i % 10 == 0:\n",
        "            print(\"Iteration: \", i)\n",
        "            predictions = get_predictions(A2)\n",
        "            print(get_accuracy(predictions, Y))\n",
        "    return W1, b1, W2, b2"
      ]
    },
    {
      "cell_type": "code",
      "execution_count": null,
      "metadata": {
        "execution": {
          "iopub.execute_input": "2020-11-24T15:33:49.529813Z",
          "iopub.status.busy": "2020-11-24T15:33:49.529067Z",
          "iopub.status.idle": "2020-11-24T15:34:33.915250Z",
          "shell.execute_reply": "2020-11-24T15:34:33.914598Z"
        },
        "papermill": {
          "duration": 44.403186,
          "end_time": "2020-11-24T15:34:33.915380",
          "exception": false,
          "start_time": "2020-11-24T15:33:49.512194",
          "status": "completed"
        },
        "tags": [],
        "colab": {
          "base_uri": "https://localhost:8080/"
        },
        "id": "Zno73oPaTs29",
        "outputId": "a3d5c06e-aa96-40c6-a5e8-5539947b90d7"
      },
      "outputs": [
        {
          "output_type": "stream",
          "name": "stdout",
          "text": [
            "Iteration:  0\n",
            "0.31666666666666665\n",
            "Iteration:  10\n",
            "0.35\n",
            "Iteration:  20\n",
            "0.35833333333333334\n",
            "Iteration:  30\n",
            "0.75\n",
            "Iteration:  40\n",
            "0.9083333333333333\n",
            "Iteration:  50\n",
            "0.65\n",
            "Iteration:  60\n",
            "0.6666666666666666\n",
            "Iteration:  70\n",
            "0.675\n",
            "Iteration:  80\n",
            "0.7333333333333333\n",
            "Iteration:  90\n",
            "0.7333333333333333\n",
            "Iteration:  100\n",
            "0.7666666666666667\n",
            "Iteration:  110\n",
            "0.7833333333333333\n",
            "Iteration:  120\n",
            "0.7916666666666666\n",
            "Iteration:  130\n",
            "0.8\n",
            "Iteration:  140\n",
            "0.8083333333333333\n",
            " the expend time is  0.06135988235473633\n"
          ]
        }
      ],
      "source": [
        "start_time = t.time()\n",
        "W1, b1, W2, b2 = gradient_descent(X_train, Y_train, 0.10, 150)\n",
        "end_time = t.time()\n",
        "print(\" the expend time is \" , end_time - start_time)"
      ]
    },
    {
      "cell_type": "markdown",
      "metadata": {
        "papermill": {
          "duration": 0.03222,
          "end_time": "2020-11-24T15:34:33.980634",
          "exception": false,
          "start_time": "2020-11-24T15:34:33.948414",
          "status": "completed"
        },
        "tags": [],
        "id": "Rf-dIgoiTs29"
      },
      "source": [
        "~85% accuracy on training set."
      ]
    },
    {
      "cell_type": "code",
      "execution_count": null,
      "metadata": {
        "execution": {
          "iopub.execute_input": "2020-11-24T15:34:34.058947Z",
          "iopub.status.busy": "2020-11-24T15:34:34.058192Z",
          "iopub.status.idle": "2020-11-24T15:34:34.061542Z",
          "shell.execute_reply": "2020-11-24T15:34:34.060921Z"
        },
        "papermill": {
          "duration": 0.048197,
          "end_time": "2020-11-24T15:34:34.061656",
          "exception": false,
          "start_time": "2020-11-24T15:34:34.013459",
          "status": "completed"
        },
        "tags": [],
        "id": "S34_sLIfTs2-"
      },
      "outputs": [],
      "source": [
        "def make_predictions(X, W1, b1, W2, b2):\n",
        "    _, _, _, A2 = forward_prop(W1, b1, W2, b2, X)\n",
        "    predictions = get_predictions(A2)\n",
        "    return predictions\n",
        "\n",
        "def test_prediction(index, W1, b1, W2, b2):\n",
        "    current_image = X_train[:, index, None]\n",
        "    prediction = make_predictions(X_train[:, index, None], W1, b1, W2, b2)\n",
        "    label = Y_train[index]\n",
        "    print(\"Prediction: \", prediction)\n",
        "    print(\"Label: \", label)"
      ]
    },
    {
      "cell_type": "markdown",
      "metadata": {
        "papermill": {
          "duration": 0.032382,
          "end_time": "2020-11-24T15:34:34.126664",
          "exception": false,
          "start_time": "2020-11-24T15:34:34.094282",
          "status": "completed"
        },
        "tags": [],
        "id": "oKpSd_IuTs2-"
      },
      "source": [
        "Let's look at a couple of examples:"
      ]
    },
    {
      "cell_type": "code",
      "execution_count": null,
      "metadata": {
        "execution": {
          "iopub.execute_input": "2020-11-24T15:34:34.198764Z",
          "iopub.status.busy": "2020-11-24T15:34:34.197926Z",
          "iopub.status.idle": "2020-11-24T15:34:34.858256Z",
          "shell.execute_reply": "2020-11-24T15:34:34.857536Z"
        },
        "papermill": {
          "duration": 0.699008,
          "end_time": "2020-11-24T15:34:34.858375",
          "exception": false,
          "start_time": "2020-11-24T15:34:34.159367",
          "status": "completed"
        },
        "tags": [],
        "colab": {
          "base_uri": "https://localhost:8080/"
        },
        "id": "1l-FkpAMTs2-",
        "outputId": "386cd721-5d93-46c5-915c-4cf23a9a9cae"
      },
      "outputs": [
        {
          "output_type": "stream",
          "name": "stdout",
          "text": [
            "Prediction:  [1]\n",
            "Label:  1\n",
            "Prediction:  [1]\n",
            "Label:  1\n",
            "Prediction:  [1]\n",
            "Label:  1\n",
            "Prediction:  [1]\n",
            "Label:  1\n"
          ]
        }
      ],
      "source": [
        "test_prediction(0, W1, b1, W2, b2)\n",
        "test_prediction(1, W1, b1, W2, b2)\n",
        "test_prediction(2, W1, b1, W2, b2)\n",
        "test_prediction(3, W1, b1, W2, b2)"
      ]
    },
    {
      "cell_type": "markdown",
      "metadata": {
        "papermill": {
          "duration": 0.037333,
          "end_time": "2020-11-24T15:34:34.933186",
          "exception": false,
          "start_time": "2020-11-24T15:34:34.895853",
          "status": "completed"
        },
        "tags": [],
        "id": "EZSpIDy-Ts2_"
      },
      "source": [
        "Finally, let's find the accuracy on the dev set:"
      ]
    },
    {
      "cell_type": "code",
      "execution_count": null,
      "metadata": {
        "execution": {
          "iopub.execute_input": "2020-11-24T15:34:35.013161Z",
          "iopub.status.busy": "2020-11-24T15:34:35.012371Z",
          "iopub.status.idle": "2020-11-24T15:34:35.033284Z",
          "shell.execute_reply": "2020-11-24T15:34:35.032394Z"
        },
        "papermill": {
          "duration": 0.062985,
          "end_time": "2020-11-24T15:34:35.033457",
          "exception": false,
          "start_time": "2020-11-24T15:34:34.970472",
          "status": "completed"
        },
        "tags": [],
        "colab": {
          "base_uri": "https://localhost:8080/"
        },
        "id": "vIRiA31mTs2_",
        "outputId": "c97f2bb5-fca7-4391-c897-200600525f13"
      },
      "outputs": [
        {
          "output_type": "execute_result",
          "data": {
            "text/plain": [
              "0.8666666666666667"
            ]
          },
          "metadata": {},
          "execution_count": 507
        }
      ],
      "source": [
        "dev_predictions = make_predictions(X_dev, W1, b1, W2, b2)\n",
        "get_accuracy(dev_predictions, Y_dev)"
      ]
    },
    {
      "cell_type": "markdown",
      "metadata": {
        "papermill": {
          "duration": 0.038287,
          "end_time": "2020-11-24T15:34:35.112466",
          "exception": false,
          "start_time": "2020-11-24T15:34:35.074179",
          "status": "completed"
        },
        "tags": [],
        "id": "WXiP-NEoTs2_"
      },
      "source": [
        "Still 90% accuracy, so our model generalized from the training data pretty well."
      ]
    },
    {
      "cell_type": "markdown",
      "metadata": {
        "id": "97fwqPHcTs2_"
      },
      "source": [
        "## Train using Krill Herd algorithm\n"
      ]
    },
    {
      "cell_type": "code",
      "execution_count": null,
      "metadata": {
        "id": "FYaBiDRRTs2_"
      },
      "outputs": [],
      "source": [
        "def weights2vector(W1, b1, W2, b2):\n",
        "    return np.concatenate((W1.reshape(W1.size), b1.reshape(b1.size), W2.reshape(W2.size), b2.reshape(b2.size)))\n",
        "def vector2weights(vector):\n",
        "    W1_start = 0\n",
        "    W1_end = 10 * 4\n",
        "    b1_end = W1_end + 10\n",
        "    W2_end = b1_end + 10 * 3\n",
        "    W1 = vector[W1_start:W1_end].reshape(10, 4)\n",
        "    b1 = vector[W1_end:b1_end].reshape(10, 1)\n",
        "    W2 = vector[b1_end:W2_end].reshape(10, 3)\n",
        "    b2 = vector[W2_end:].reshape(3, 1)\n",
        "    return W1, b1, W2, b2"
      ]
    },
    {
      "cell_type": "code",
      "execution_count": null,
      "metadata": {
        "colab": {
          "base_uri": "https://localhost:8080/"
        },
        "id": "rCMtFtCYTs3A",
        "outputId": "8ba739be-5441-49dd-8ac7-e78fc387e10f"
      },
      "outputs": [
        {
          "output_type": "execute_result",
          "data": {
            "text/plain": [
              "(83,)"
            ]
          },
          "metadata": {},
          "execution_count": 509
        }
      ],
      "source": [
        "x = weights2vector(W1, b1, W2, b2)\n",
        "x.shape"
      ]
    },
    {
      "cell_type": "code",
      "execution_count": null,
      "metadata": {
        "id": "95fWsMhaTs3B"
      },
      "outputs": [],
      "source": [
        "def get_predictions(A2):\n",
        "    return np.argmax(A2, 0)\n",
        "\n",
        "def get_accuracy(predictions, Y):\n",
        "    #print(predictions, Y)\n",
        "    return np.sum(predictions == Y) / Y.size\n",
        "\n",
        "def gradient_descent(X, Y, alpha, iterations):\n",
        "    W1, b1, W2, b2 = init_params()\n",
        "    for i in range(iterations):\n",
        "        Z1, A1, Z2, A2 = forward_prop(W1, b1, W2, b2, X)\n",
        "        dW1, db1, dW2, db2 = backward_prop(Z1, A1, Z2, A2, W1, W2, X, Y)\n",
        "        W1, b1, W2, b2 = update_params(W1, b1, W2, b2, dW1, db1, dW2, db2, alpha)\n",
        "        if i % 10 == 0:\n",
        "            print(\"Iteration: \", i)\n",
        "            predictions = get_predictions(A2)\n",
        "            print(get_accuracy(predictions, Y))\n",
        "    return W1, b1, W2, b2"
      ]
    },
    {
      "cell_type": "code",
      "source": [
        "start_time = t.time()\n",
        "W1, b1, W2, b2 = gradient_descent(X_train, Y_train, 0.10, 200)\n",
        "end_time = t.time()\n",
        "print(\" the expend time is \" , end_time - start_time)"
      ],
      "metadata": {
        "colab": {
          "base_uri": "https://localhost:8080/"
        },
        "id": "o-x-WUq24ZKK",
        "outputId": "c4b78163-f4c7-425d-c7cd-4583658f0177"
      },
      "execution_count": null,
      "outputs": [
        {
          "output_type": "stream",
          "name": "stdout",
          "text": [
            "Iteration:  0\n",
            "0.35\n",
            "Iteration:  10\n",
            "0.6916666666666667\n",
            "Iteration:  20\n",
            "0.7\n",
            "Iteration:  30\n",
            "0.7416666666666667\n",
            "Iteration:  40\n",
            "0.8083333333333333\n",
            "Iteration:  50\n",
            "0.9166666666666666\n",
            "Iteration:  60\n",
            "0.675\n",
            "Iteration:  70\n",
            "0.6666666666666666\n",
            "Iteration:  80\n",
            "0.6916666666666667\n",
            "Iteration:  90\n",
            "0.7333333333333333\n",
            "Iteration:  100\n",
            "0.7333333333333333\n",
            "Iteration:  110\n",
            "0.7833333333333333\n",
            "Iteration:  120\n",
            "0.7833333333333333\n",
            "Iteration:  130\n",
            "0.7916666666666666\n",
            "Iteration:  140\n",
            "0.7833333333333333\n",
            "Iteration:  150\n",
            "0.8083333333333333\n",
            "Iteration:  160\n",
            "0.8083333333333333\n",
            "Iteration:  170\n",
            "0.8166666666666667\n",
            "Iteration:  180\n",
            "0.8416666666666667\n",
            "Iteration:  190\n",
            "0.8583333333333333\n",
            " the expend time is  0.08306145668029785\n"
          ]
        }
      ]
    },
    {
      "cell_type": "code",
      "execution_count": null,
      "metadata": {
        "scrolled": false,
        "colab": {
          "base_uri": "https://localhost:8080/"
        },
        "id": "XvYyRoMETs3D",
        "outputId": "d95c3dd8-d9fe-4c20-f96f-332d7e2b9bf1"
      },
      "outputs": [
        {
          "output_type": "execute_result",
          "data": {
            "text/plain": [
              "((10, 4), (10, 3), (10, 1), (3, 1))"
            ]
          },
          "metadata": {},
          "execution_count": 512
        }
      ],
      "source": [
        "W1.shape,W2.shape,b1.shape,b2.shape"
      ]
    },
    {
      "cell_type": "code",
      "source": [
        "\n",
        "class KrillHerd:\n",
        "    def __init__(self, population_size=15, min_values=[-100, -100], max_values=[100, 100], generations=355, c_t=1, target_function=None, verbose=True, start_init=None, target_value=None):\n",
        "        self.population_size = population_size\n",
        "        self.min_values = np.array(min_values)\n",
        "        self.max_values = np.array(max_values)\n",
        "        self.generations = generations\n",
        "        self.c_t = np.clip(c_t, 0, 2)\n",
        "        self.target_function = target_function if target_function else self.target_function\n",
        "        self.verbose = verbose\n",
        "        self.start_init = start_init\n",
        "        self.target_value = target_value\n",
        "\n",
        "    @staticmethod\n",
        "    def target_function(x):\n",
        "        return\n",
        "\n",
        "    def initialize_variables(self):\n",
        "        dim = len(self.min_values)\n",
        "        if self.start_init is not None:\n",
        "            start_init = np.atleast_2d(self.start_init)\n",
        "            n_rows = self.population_size - start_init.shape[0]\n",
        "            if n_rows > 0:\n",
        "                rows = np.random.uniform(self.min_values, self.max_values, (n_rows, dim))\n",
        "                start_init = np.vstack((start_init[:, :dim], rows))\n",
        "            else:\n",
        "                start_init = start_init[:self.population_size, :dim]\n",
        "            fitness_values = self.target_function(start_init) if hasattr(self.target_function, 'vectorized') else np.apply_along_axis(self.target_function, 1, start_init)\n",
        "            population = np.hstack((start_init, fitness_values[:, np.newaxis] if not hasattr(self.target_function, 'vectorized') else fitness_values))\n",
        "        else:\n",
        "            population = np.random.uniform(self.min_values, self.max_values, (self.population_size, dim))\n",
        "            fitness_values = self.target_function(population) if hasattr(self.target_function, 'vectorized') else np.apply_along_axis(self.target_function, 1, population)\n",
        "            population = np.hstack((population, fitness_values[:, np.newaxis] if not hasattr(self.target_function, 'vectorized') else fitness_values))\n",
        "        return population\n",
        "\n",
        "    @staticmethod\n",
        "    def build_distance_matrix(population):\n",
        "        a = np.copy(population[:, :-1])\n",
        "        b = a.reshape(np.prod(a.shape[:-1]), 1, a.shape[-1])\n",
        "        return np.sqrt(np.einsum('ijk,ijk->ij', b - a, b - a)).squeeze()\n",
        "\n",
        "    def motion_induced_process(self, population, population_n, best_ind, worst_ind, c):\n",
        "        n_max = 0.01\n",
        "        num_features = population.shape[1] - 1\n",
        "        dtm = self.build_distance_matrix(population)\n",
        "        np.fill_diagonal(dtm, float('+inf'))\n",
        "        for i in range(population.shape[0]):\n",
        "            idx = np.argpartition(dtm[i, :], int(num_features / 5))[:int(num_features / 5)]\n",
        "            k_ij = np.sum((population_n[i, -1] - population_n[idx, -1]) / (-best_ind[-1] + worst_ind[-1] + 1e-16))\n",
        "            x_ij = np.sum((population_n[idx, :-1] - population_n[i, :-1]) / (dtm[i, idx][:, np.newaxis] + 1e-16), axis=0)\n",
        "            a_iL = k_ij * x_ij\n",
        "            rand = np.random.rand()\n",
        "            a_i = a_iL + 2 * (rand + c) * best_ind[-1] * best_ind[:-1]\n",
        "            w_vector = np.random.rand(num_features)\n",
        "            population_n[i, :-1] = np.clip(a_i * n_max + w_vector * population_n[i, :-1], self.min_values, self.max_values)\n",
        "            population_n[i, -1] = self.target_function(population_n[i, :-1])\n",
        "        return population_n\n",
        "\n",
        "    def foraging_motion(self, population, population_f, best_ind, c):\n",
        "        num_features = len(self.min_values)\n",
        "        x_if = best_ind[:-1] * (1 / (best_ind[-1] + 1e-16))\n",
        "        x_if = x_if / (1 / (best_ind[-1] + 1e-16))\n",
        "        k_if = self.target_function(x_if)\n",
        "        v_f = 0.02\n",
        "        c_f = 2 * (1 - c)\n",
        "        b_i = c_f * k_if * x_if + best_ind[-1] * best_ind[:-1]\n",
        "        for i in range(population.shape[0]):\n",
        "            w_vector = np.random.rand(num_features)\n",
        "            population_f[i, :-1] = np.clip(v_f * b_i + w_vector * population_f[i, :-1], self.min_values, self.max_values)\n",
        "            population_f[i, -1] = self.target_function(population_f[i, :-1])\n",
        "        return population_f\n",
        "\n",
        "    def physical_difusion(self, population, c):\n",
        "        num_features = population.shape[1] - 1\n",
        "        d_max = np.random.uniform(0.002, 0.010, size=(population.shape[0], 1))\n",
        "        random_diffusion = np.random.uniform(-1, 1, size=(population.shape[0], num_features))\n",
        "        population_d = np.zeros_like(population)\n",
        "        population_d[:, :-1] = np.clip(d_max * random_diffusion * (1 - c), self.min_values, self.max_values)\n",
        "        for i in range(population.shape[0]):\n",
        "            population_d[i, -1] = self.target_function(population_d[i, :-1])\n",
        "        return population_d\n",
        "\n",
        "    def update_position(self, population, population_n, population_f, population_d, c):\n",
        "        old_population = np.copy(population)\n",
        "        delta_t = c * np.sum(self.max_values - self.min_values)\n",
        "        population[:, :-1] = np.clip(population[:, :-1] + delta_t * (population_n[:, :-1] + population_f[:, :-1] + population_d[:, :-1]), self.min_values, self.max_values)\n",
        "        population[:, -1] = np.apply_along_axis(self.target_function, 1, population[:, :-1])\n",
        "        population = np.vstack([old_population, population, population_n, population_f, population_d])\n",
        "        population = population[population[:, -1].argsort()]\n",
        "        return population[:old_population.shape[0], :]\n",
        "\n",
        "    @staticmethod\n",
        "    def fitness_function(population):\n",
        "        fitness = np.zeros((population.shape[0], 2))\n",
        "        for i in range(fitness.shape[0]):\n",
        "            fitness[i, 0] = 1 / (1 + population[i, -1] + abs(population[:, -1].min()))\n",
        "        fit_sum = fitness[:, 0].sum()\n",
        "        fitness[0, 1] = fitness[0, 0]\n",
        "        for i in range(1, fitness.shape[0]):\n",
        "            fitness[i, 1] = fitness[i, 0] + fitness[i - 1, 1]\n",
        "        for i in range(fitness.shape[0]):\n",
        "            fitness[i, 1] = fitness[i, 1] / fit_sum\n",
        "        return fitness\n",
        "\n",
        "    @staticmethod\n",
        "    def roulette_wheel(fitness):\n",
        "        ix = 0\n",
        "        random = np.random.rand()\n",
        "        for i in range(fitness.shape[0]):\n",
        "            if random <= fitness[i, 1]:\n",
        "                ix = i\n",
        "                break\n",
        "        return ix\n",
        "\n",
        "    def breeding(self, population, fitness, mu, elite):\n",
        "        offspring = np.copy(population)\n",
        "        if elite > 0:\n",
        "            preserve = np.copy(population[population[:, -1].argsort()])\n",
        "            for i in range(elite):\n",
        "                for j in range(offspring.shape[1]):\n",
        "                    offspring[i, j] = preserve[i, j]\n",
        "        for i in range(elite, offspring.shape[0]):\n",
        "            parent_1, parent_2 = self.roulette_wheel(fitness), self.roulette_wheel(fitness)\n",
        "            while parent_1 == parent_2:\n",
        "                parent_2 = np.random.choice(len(population) - 1)\n",
        "            for j in range(offspring.shape[1] - 1):\n",
        "                rand = np.random.rand()\n",
        "                rand_b = np.random.rand()\n",
        "                rand_c = np.random.rand()\n",
        "                b_offspring = 2 * rand_b if rand <= 0.5 else 1 / (2 * (1 - rand_b))\n",
        "                b_offspring = b_offspring ** (1 / (mu + 1))\n",
        "                offspring[i, j] = np.clip(\n",
        "                    ((1 + b_offspring) * population[parent_1, j] + (1 - b_offspring) * population[parent_2, j]) / 2\n",
        "                    if rand_c >= 0.5 else\n",
        "                    ((1 - b_offspring) * population[parent_1, j] + (1 + b_offspring) * population[parent_2, j]) / 2,\n",
        "                    self.min_values[j], self.max_values[j])\n",
        "            offspring[i, -1] = self.target_function(offspring[i, :-1])\n",
        "        return offspring\n",
        "\n",
        "    def mutation(self, offspring, mutation_rate, eta):\n",
        "        for i in range(offspring.shape[0]):\n",
        "            for j in range(offspring.shape[1] - 1):\n",
        "                probability = np.random.rand()\n",
        "                if probability < mutation_rate:\n",
        "                    rand = np.random.rand()\n",
        "                    rand_d = np.random.rand()\n",
        "                    d_mutation = 2 * rand_d if rand <= 0.5 else 2 * (1 - rand_d)\n",
        "                    d_mutation = d_mutation ** (1 / (eta + 1)) - 1 if rand <= 0.5 else 1 - d_mutation ** (1 / (eta + 1))\n",
        "                    offspring[i, j] = np.clip(offspring[i, j] + d_mutation, self.min_values[j], self.max_values[j])\n",
        "            offspring[i, -1] = self.target_function(offspring[i, :-1])\n",
        "        return offspring\n",
        "\n",
        "    def run(self):\n",
        "        population = self.initialize_variables()\n",
        "        best_ind = np.copy(population[np.argmin(population[:, -1]), :])\n",
        "        worst_ind = np.copy(population[np.argmax(population[:, -1]), :])\n",
        "        population_n = np.zeros_like(population)\n",
        "        population_f = np.copy(population)\n",
        "        population_d = np.zeros_like(population)\n",
        "        count = 0\n",
        "\n",
        "        while count <= self.generations:\n",
        "            c = count / self.generations\n",
        "            if self.verbose:\n",
        "                print('Generation =', count, 'f(x) =', best_ind[-1])\n",
        "            population_n = self.motion_induced_process(population, population_n, best_ind, worst_ind, c)\n",
        "            population_f = self.foraging_motion(population, population_f, best_ind, c)\n",
        "            population_d = self.physical_difusion(population, c)\n",
        "            population = self.update_position(population, population_n, population_f, population_d, self.c_t)\n",
        "            if np.random.rand() <= 0.2:\n",
        "                fitness = self.fitness_function(population)\n",
        "                offspring = self.breeding(population, fitness, 1, 1)\n",
        "                population = self.mutation(offspring, 0.05, 1)\n",
        "            best_loc = population[np.argmin(population[:, -1]), :]\n",
        "            worst_ind = np.copy(population[np.argmax(population[:, -1]), :])\n",
        "            if best_loc[-1] < best_ind[-1]:\n",
        "                best_ind = np.copy(best_loc)\n",
        "            if self.target_value is not None and best_ind[-1] <= self.target_value:\n",
        "                break\n",
        "            count += 1\n",
        "\n",
        "        return best_ind\n",
        "\n",
        "\n"
      ],
      "metadata": {
        "id": "mJ28fwm3TwEJ"
      },
      "execution_count": null,
      "outputs": []
    },
    {
      "cell_type": "code",
      "source": [
        "\n",
        "def example_target_function(x):\n",
        "    return np.sum(x**2)\n",
        "\n",
        "kha = KrillHerd(target_function=example_target_function, verbose=True)\n",
        "best_solution = kha.run()\n",
        "print(\"Best Solution:\", best_solution)\n",
        "print(best_solution[:-1])"
      ],
      "metadata": {
        "colab": {
          "base_uri": "https://localhost:8080/"
        },
        "id": "ijvWD6fHTzLk",
        "outputId": "4bb1e802-42d1-4b35-c2c0-97e5ffca1540"
      },
      "execution_count": null,
      "outputs": [
        {
          "output_type": "stream",
          "name": "stdout",
          "text": [
            "Generation = 0 f(x) = 145.5846568857524\n",
            "Generation = 1 f(x) = 4.183349840196711e-07\n",
            "Generation = 2 f(x) = 2.6439474722338383e-07\n",
            "Generation = 3 f(x) = 2.6439474722338383e-07\n",
            "Generation = 4 f(x) = 2.422227576135988e-08\n",
            "Generation = 5 f(x) = 2.422227576135988e-08\n",
            "Generation = 6 f(x) = 2.422227576135988e-08\n",
            "Generation = 7 f(x) = 1.605285107328271e-08\n",
            "Generation = 8 f(x) = 4.954585147067925e-11\n",
            "Generation = 9 f(x) = 4.353447037400812e-11\n",
            "Generation = 10 f(x) = 1.0547988996196503e-12\n",
            "Generation = 11 f(x) = 1.933423157586579e-14\n",
            "Generation = 12 f(x) = 9.287104822968037e-15\n",
            "Generation = 13 f(x) = 5.695200839919719e-15\n",
            "Generation = 14 f(x) = 3.89630801359651e-16\n",
            "Generation = 15 f(x) = 4.110518232032335e-18\n",
            "Generation = 16 f(x) = 1.100021037546526e-18\n",
            "Generation = 17 f(x) = 1.180613511127675e-20\n",
            "Generation = 18 f(x) = 6.901545214636398e-21\n",
            "Generation = 19 f(x) = 3.702832285043552e-23\n",
            "Generation = 20 f(x) = 1.768985271532077e-23\n",
            "Generation = 21 f(x) = 9.52761659540322e-25\n",
            "Generation = 22 f(x) = 2.0726529652880124e-25\n",
            "Generation = 23 f(x) = 4.1296655948268045e-26\n",
            "Generation = 24 f(x) = 3.261035453392132e-26\n",
            "Generation = 25 f(x) = 2.599256129749488e-27\n",
            "Generation = 26 f(x) = 2.3619838636571447e-27\n",
            "Generation = 27 f(x) = 1.1224746212514444e-27\n",
            "Generation = 28 f(x) = 3.04681368362088e-28\n",
            "Generation = 29 f(x) = 3.894040658749846e-30\n",
            "Generation = 30 f(x) = 8.878966001542431e-31\n",
            "Generation = 31 f(x) = 8.164332330857546e-32\n",
            "Generation = 32 f(x) = 1.1776333206997625e-32\n",
            "Generation = 33 f(x) = 3.455186096461234e-33\n",
            "Generation = 34 f(x) = 1.8212284208370391e-35\n",
            "Generation = 35 f(x) = 2.1209321652163093e-36\n",
            "Generation = 36 f(x) = 1.5266247805580036e-36\n",
            "Generation = 37 f(x) = 7.280275934755219e-38\n",
            "Generation = 38 f(x) = 3.8134260538128126e-38\n",
            "Generation = 39 f(x) = 3.595749554101335e-38\n",
            "Generation = 40 f(x) = 6.253874345528775e-39\n",
            "Generation = 41 f(x) = 1.3588440531935412e-39\n",
            "Generation = 42 f(x) = 3.006699875281598e-40\n",
            "Generation = 43 f(x) = 2.647309486457723e-40\n",
            "Generation = 44 f(x) = 8.346021461559915e-41\n",
            "Generation = 45 f(x) = 2.6195067240212023e-42\n",
            "Generation = 46 f(x) = 5.991083901522771e-43\n",
            "Generation = 47 f(x) = 3.4950915370809332e-43\n",
            "Generation = 48 f(x) = 6.524064203774952e-44\n",
            "Generation = 49 f(x) = 5.60752595252351e-47\n",
            "Generation = 50 f(x) = 1.0139796028928883e-47\n",
            "Generation = 51 f(x) = 2.1764140769043656e-49\n",
            "Generation = 52 f(x) = 2.4140513746635617e-52\n",
            "Generation = 53 f(x) = 2.091833853900707e-52\n",
            "Generation = 54 f(x) = 1.370147948227483e-52\n",
            "Generation = 55 f(x) = 7.205848535150026e-55\n",
            "Generation = 56 f(x) = 4.712114325449453e-56\n",
            "Generation = 57 f(x) = 3.149485709647913e-57\n",
            "Generation = 58 f(x) = 1.8017308066899963e-57\n",
            "Generation = 59 f(x) = 2.972583622328737e-58\n",
            "Generation = 60 f(x) = 5.408658887326312e-61\n",
            "Generation = 61 f(x) = 4.694861662734005e-62\n",
            "Generation = 62 f(x) = 2.410299343542117e-62\n",
            "Generation = 63 f(x) = 2.2585377647132893e-63\n",
            "Generation = 64 f(x) = 4.8728882467332355e-64\n",
            "Generation = 65 f(x) = 3.241979759397914e-64\n",
            "Generation = 66 f(x) = 2.89667562587101e-64\n",
            "Generation = 67 f(x) = 1.1116515614405587e-66\n",
            "Generation = 68 f(x) = 3.600509531114845e-67\n",
            "Generation = 69 f(x) = 1.9805219233234458e-70\n",
            "Generation = 70 f(x) = 1.181393020959222e-70\n",
            "Generation = 71 f(x) = 2.6105489042395386e-73\n",
            "Generation = 72 f(x) = 1.5172517303122645e-74\n",
            "Generation = 73 f(x) = 1.2054419441194445e-74\n",
            "Generation = 74 f(x) = 3.432551890796567e-76\n",
            "Generation = 75 f(x) = 1.745604801926912e-76\n",
            "Generation = 76 f(x) = 5.04272750715564e-77\n",
            "Generation = 77 f(x) = 2.3396436841024783e-78\n",
            "Generation = 78 f(x) = 5.0813267855889914e-79\n",
            "Generation = 79 f(x) = 5.435798315654463e-82\n",
            "Generation = 80 f(x) = 5.435798315654463e-82\n",
            "Generation = 81 f(x) = 1.121785265913089e-82\n",
            "Generation = 82 f(x) = 3.2720803474078704e-84\n",
            "Generation = 83 f(x) = 1.372558069830363e-84\n",
            "Generation = 84 f(x) = 1.2791064049948985e-84\n",
            "Generation = 85 f(x) = 5.0633507353888895e-85\n",
            "Generation = 86 f(x) = 8.259259100919271e-87\n",
            "Generation = 87 f(x) = 1.639452272941981e-87\n",
            "Generation = 88 f(x) = 5.766690561691569e-88\n",
            "Generation = 89 f(x) = 1.6009481456831099e-88\n",
            "Generation = 90 f(x) = 1.929133319045459e-89\n",
            "Generation = 91 f(x) = 7.671519973943882e-90\n",
            "Generation = 92 f(x) = 7.755198015564223e-92\n",
            "Generation = 93 f(x) = 3.0021622847533456e-92\n",
            "Generation = 94 f(x) = 1.575816481708118e-92\n",
            "Generation = 95 f(x) = 4.209681609261218e-93\n",
            "Generation = 96 f(x) = 2.9097638103405306e-93\n",
            "Generation = 97 f(x) = 5.950979361893873e-95\n",
            "Generation = 98 f(x) = 9.790383473434802e-97\n",
            "Generation = 99 f(x) = 1.820347768583234e-97\n",
            "Generation = 100 f(x) = 6.763455870609756e-98\n",
            "Generation = 101 f(x) = 9.799093461382959e-99\n",
            "Generation = 102 f(x) = 2.536016660015292e-99\n",
            "Generation = 103 f(x) = 2.021102730673206e-100\n",
            "Generation = 104 f(x) = 7.491343292057848e-101\n",
            "Generation = 105 f(x) = 4.396851589266751e-102\n",
            "Generation = 106 f(x) = 3.7487626853421e-102\n",
            "Generation = 107 f(x) = 2.6773504208523312e-102\n",
            "Generation = 108 f(x) = 2.0190739511703715e-103\n",
            "Generation = 109 f(x) = 1.75493937601573e-103\n",
            "Generation = 110 f(x) = 2.0563735742666694e-106\n",
            "Generation = 111 f(x) = 1.4448548121498613e-106\n",
            "Generation = 112 f(x) = 4.5733085220745947e-107\n",
            "Generation = 113 f(x) = 1.066363018447071e-107\n",
            "Generation = 114 f(x) = 4.5073053645314594e-108\n",
            "Generation = 115 f(x) = 2.1483020088000557e-110\n",
            "Generation = 116 f(x) = 1.2795526940841914e-112\n",
            "Generation = 117 f(x) = 2.089286435759189e-114\n",
            "Generation = 118 f(x) = 1.8755747899176276e-114\n",
            "Generation = 119 f(x) = 1.675384500299808e-114\n",
            "Generation = 120 f(x) = 9.010375644987682e-115\n",
            "Generation = 121 f(x) = 4.045859864221349e-115\n",
            "Generation = 122 f(x) = 4.449983664665346e-116\n",
            "Generation = 123 f(x) = 1.7100622979214202e-116\n",
            "Generation = 124 f(x) = 1.3736790861250022e-118\n",
            "Generation = 125 f(x) = 3.903053376031555e-120\n",
            "Generation = 126 f(x) = 9.105420239679258e-121\n",
            "Generation = 127 f(x) = 3.4479290921482775e-121\n",
            "Generation = 128 f(x) = 6.797138045708409e-122\n",
            "Generation = 129 f(x) = 1.2617099487307488e-122\n",
            "Generation = 130 f(x) = 3.901875458801571e-124\n",
            "Generation = 131 f(x) = 9.08306124576252e-125\n",
            "Generation = 132 f(x) = 2.800545815934587e-125\n",
            "Generation = 133 f(x) = 4.075811059819784e-126\n",
            "Generation = 134 f(x) = 1.339398010668609e-127\n",
            "Generation = 135 f(x) = 5.6244494995809754e-129\n",
            "Generation = 136 f(x) = 2.9564697306687597e-130\n",
            "Generation = 137 f(x) = 1.4057704755288689e-130\n",
            "Generation = 138 f(x) = 3.87131214857001e-131\n",
            "Generation = 139 f(x) = 6.687260021428542e-132\n",
            "Generation = 140 f(x) = 4.6043735575720166e-132\n",
            "Generation = 141 f(x) = 1.8370987872202916e-132\n",
            "Generation = 142 f(x) = 1.0818071027745098e-132\n",
            "Generation = 143 f(x) = 5.429394787375407e-133\n",
            "Generation = 144 f(x) = 1.1446477785383292e-133\n",
            "Generation = 145 f(x) = 1.1024620548066148e-134\n",
            "Generation = 146 f(x) = 2.084488261895691e-135\n",
            "Generation = 147 f(x) = 6.432699536218737e-138\n",
            "Generation = 148 f(x) = 2.958165233414402e-138\n",
            "Generation = 149 f(x) = 5.830908872363535e-139\n",
            "Generation = 150 f(x) = 2.6935545476745696e-139\n",
            "Generation = 151 f(x) = 1.0535371700409512e-139\n",
            "Generation = 152 f(x) = 7.272362193124882e-141\n",
            "Generation = 153 f(x) = 2.736973182610195e-141\n",
            "Generation = 154 f(x) = 3.367159520323742e-143\n",
            "Generation = 155 f(x) = 1.0978789548332717e-143\n",
            "Generation = 156 f(x) = 2.6174402332826307e-144\n",
            "Generation = 157 f(x) = 2.3265690737357713e-144\n",
            "Generation = 158 f(x) = 1.3278136451589023e-144\n",
            "Generation = 159 f(x) = 2.7456572258980344e-145\n",
            "Generation = 160 f(x) = 1.269636140165421e-145\n",
            "Generation = 161 f(x) = 2.7505865439047204e-146\n",
            "Generation = 162 f(x) = 1.1315791944546496e-146\n",
            "Generation = 163 f(x) = 7.330758052842613e-147\n",
            "Generation = 164 f(x) = 1.9507650789957614e-150\n",
            "Generation = 165 f(x) = 2.7603533112459904e-151\n",
            "Generation = 166 f(x) = 1.2182482793707325e-152\n",
            "Generation = 167 f(x) = 5.039207811511773e-153\n",
            "Generation = 168 f(x) = 6.569598296557616e-155\n",
            "Generation = 169 f(x) = 6.471129651070629e-156\n",
            "Generation = 170 f(x) = 7.14130514258313e-157\n",
            "Generation = 171 f(x) = 1.1080817926079484e-157\n",
            "Generation = 172 f(x) = 1.091660570518632e-157\n",
            "Generation = 173 f(x) = 6.419345263340984e-158\n",
            "Generation = 174 f(x) = 3.517362196885173e-158\n",
            "Generation = 175 f(x) = 5.128039770011574e-159\n",
            "Generation = 176 f(x) = 5.128039770011574e-159\n",
            "Generation = 177 f(x) = 1.8818475729465555e-159\n",
            "Generation = 178 f(x) = 3.709250370840322e-160\n",
            "Generation = 179 f(x) = 1.0608088504633523e-162\n",
            "Generation = 180 f(x) = 6.186046938310438e-164\n",
            "Generation = 181 f(x) = 3.544432862809597e-164\n",
            "Generation = 182 f(x) = 6.000641356231377e-166\n",
            "Generation = 183 f(x) = 1.423607307681451e-166\n",
            "Generation = 184 f(x) = 9.73588006703587e-168\n",
            "Generation = 185 f(x) = 3.3987728141034716e-168\n",
            "Generation = 186 f(x) = 3.087405482455184e-169\n",
            "Generation = 187 f(x) = 1.132376019895667e-169\n",
            "Generation = 188 f(x) = 5.179666775769268e-172\n",
            "Generation = 189 f(x) = 2.664890444190576e-174\n",
            "Generation = 190 f(x) = 6.509555909960265e-175\n",
            "Generation = 191 f(x) = 5.110840476727455e-175\n",
            "Generation = 192 f(x) = 1.597712304123401e-175\n",
            "Generation = 193 f(x) = 1.5588207328693943e-175\n",
            "Generation = 194 f(x) = 5.6466301798906545e-176\n",
            "Generation = 195 f(x) = 1.9990590098668177e-176\n",
            "Generation = 196 f(x) = 6.439616087365889e-179\n",
            "Generation = 197 f(x) = 5.755844653822463e-180\n",
            "Generation = 198 f(x) = 4.1926751913757947e-181\n",
            "Generation = 199 f(x) = 1.4677715963299274e-181\n",
            "Generation = 200 f(x) = 5.1287689960693216e-182\n",
            "Generation = 201 f(x) = 1.35854116405411e-184\n",
            "Generation = 202 f(x) = 1.9693518847291184e-185\n",
            "Generation = 203 f(x) = 3.772480929554588e-186\n",
            "Generation = 204 f(x) = 2.0414423485764157e-186\n",
            "Generation = 205 f(x) = 5.870712885086808e-187\n",
            "Generation = 206 f(x) = 8.739121081588414e-189\n",
            "Generation = 207 f(x) = 3.92469811370701e-189\n",
            "Generation = 208 f(x) = 2.7575728896238692e-191\n",
            "Generation = 209 f(x) = 6.871163791325206e-192\n",
            "Generation = 210 f(x) = 4.0550536367080605e-192\n",
            "Generation = 211 f(x) = 1.3029927903876657e-195\n",
            "Generation = 212 f(x) = 1.0189757606309863e-196\n",
            "Generation = 213 f(x) = 2.4181250120652162e-197\n",
            "Generation = 214 f(x) = 1.9459240235033052e-197\n",
            "Generation = 215 f(x) = 2.700788246947679e-199\n",
            "Generation = 216 f(x) = 7.098860302434066e-200\n",
            "Generation = 217 f(x) = 4.1167582550416936e-200\n",
            "Generation = 218 f(x) = 4.1167582550416936e-200\n",
            "Generation = 219 f(x) = 1.5574298589222087e-201\n",
            "Generation = 220 f(x) = 2.1754816957187586e-202\n",
            "Generation = 221 f(x) = 1.5789166646774837e-203\n",
            "Generation = 222 f(x) = 4.18117969724548e-204\n",
            "Generation = 223 f(x) = 7.155586272046499e-205\n",
            "Generation = 224 f(x) = 6.596756773357615e-207\n",
            "Generation = 225 f(x) = 1.2279094151089698e-208\n",
            "Generation = 226 f(x) = 2.6028085558186863e-209\n",
            "Generation = 227 f(x) = 1.356658732460726e-210\n",
            "Generation = 228 f(x) = 1.2114866561942694e-211\n",
            "Generation = 229 f(x) = 6.882537398943847e-212\n",
            "Generation = 230 f(x) = 6.062638567372087e-213\n",
            "Generation = 231 f(x) = 2.8452344968624434e-213\n",
            "Generation = 232 f(x) = 1.774513189614583e-214\n",
            "Generation = 233 f(x) = 4.0745787879920756e-215\n",
            "Generation = 234 f(x) = 7.571122915832194e-216\n",
            "Generation = 235 f(x) = 2.8940306540176327e-217\n",
            "Generation = 236 f(x) = 1.9324666528056864e-218\n",
            "Generation = 237 f(x) = 1.7447360972790325e-218\n",
            "Generation = 238 f(x) = 2.4673839128011683e-220\n",
            "Generation = 239 f(x) = 1.6490709366601503e-220\n",
            "Generation = 240 f(x) = 1.837137540409875e-222\n",
            "Generation = 241 f(x) = 9.76450636582603e-224\n",
            "Generation = 242 f(x) = 1.7930722432613954e-224\n",
            "Generation = 243 f(x) = 3.9862403993491965e-225\n",
            "Generation = 244 f(x) = 2.3976317323207855e-226\n",
            "Generation = 245 f(x) = 5.042563661972252e-227\n",
            "Generation = 246 f(x) = 2.5461515116724595e-227\n",
            "Generation = 247 f(x) = 1.8881831002285393e-228\n",
            "Generation = 248 f(x) = 6.474861234244339e-231\n",
            "Generation = 249 f(x) = 3.593891938140509e-231\n",
            "Generation = 250 f(x) = 3.9042150087853236e-232\n",
            "Generation = 251 f(x) = 3.993719328444446e-233\n",
            "Generation = 252 f(x) = 4.920433442854865e-235\n",
            "Generation = 253 f(x) = 2.4940781369411583e-235\n",
            "Generation = 254 f(x) = 7.855896300019236e-236\n",
            "Generation = 255 f(x) = 1.4093480409886197e-237\n",
            "Generation = 256 f(x) = 8.47752165383179e-238\n",
            "Generation = 257 f(x) = 7.130949267018106e-240\n",
            "Generation = 258 f(x) = 1.9961131570470594e-240\n",
            "Generation = 259 f(x) = 1.6409825349772318e-241\n",
            "Generation = 260 f(x) = 9.824714005178108e-242\n",
            "Generation = 261 f(x) = 9.824714005178108e-242\n",
            "Generation = 262 f(x) = 3.681296832731814e-243\n",
            "Generation = 263 f(x) = 5.302606268685474e-245\n",
            "Generation = 264 f(x) = 1.047052787115015e-245\n",
            "Generation = 265 f(x) = 2.219504511968774e-247\n",
            "Generation = 266 f(x) = 1.3686488729574026e-247\n",
            "Generation = 267 f(x) = 2.4460099816730912e-250\n",
            "Generation = 268 f(x) = 5.612960021899471e-251\n",
            "Generation = 269 f(x) = 6.188944337253883e-253\n",
            "Generation = 270 f(x) = 5.837210297797336e-254\n",
            "Generation = 271 f(x) = 1.0891122035995444e-255\n",
            "Generation = 272 f(x) = 1.7277554725612816e-257\n",
            "Generation = 273 f(x) = 1.6403988653742044e-257\n",
            "Generation = 274 f(x) = 3.566925258434077e-259\n",
            "Generation = 275 f(x) = 2.890246764071576e-259\n",
            "Generation = 276 f(x) = 8.266242671617708e-260\n",
            "Generation = 277 f(x) = 3.750515163718913e-261\n",
            "Generation = 278 f(x) = 5.984219217213786e-262\n",
            "Generation = 279 f(x) = 5.161936732584505e-262\n",
            "Generation = 280 f(x) = 9.560703985591186e-263\n",
            "Generation = 281 f(x) = 1.035996450690405e-263\n",
            "Generation = 282 f(x) = 8.508890015577763e-264\n",
            "Generation = 283 f(x) = 3.2085168667234474e-264\n",
            "Generation = 284 f(x) = 3.2567866882807036e-267\n",
            "Generation = 285 f(x) = 4.0076949612551956e-268\n",
            "Generation = 286 f(x) = 7.584219011879384e-269\n",
            "Generation = 287 f(x) = 2.60029381885044e-269\n",
            "Generation = 288 f(x) = 1.5077072969560452e-270\n",
            "Generation = 289 f(x) = 3.631200067234612e-271\n",
            "Generation = 290 f(x) = 1.754449420430237e-271\n",
            "Generation = 291 f(x) = 9.282328749625514e-272\n",
            "Generation = 292 f(x) = 1.791645628592556e-272\n",
            "Generation = 293 f(x) = 1.5024555958548015e-272\n",
            "Generation = 294 f(x) = 1.4141826259227155e-272\n",
            "Generation = 295 f(x) = 2.9974833789571554e-273\n",
            "Generation = 296 f(x) = 6.341113328460569e-276\n",
            "Generation = 297 f(x) = 3.546261821343195e-276\n",
            "Generation = 298 f(x) = 2.329925149441333e-276\n",
            "Generation = 299 f(x) = 2.158156447951431e-277\n",
            "Generation = 300 f(x) = 8.054973418893106e-279\n",
            "Generation = 301 f(x) = 1.333926995242151e-279\n",
            "Generation = 302 f(x) = 3.501782467374552e-280\n",
            "Generation = 303 f(x) = 8.109366358776943e-282\n",
            "Generation = 304 f(x) = 2.695307295655534e-283\n",
            "Generation = 305 f(x) = 2.665032536066017e-284\n",
            "Generation = 306 f(x) = 5.080753160818356e-285\n",
            "Generation = 307 f(x) = 2.00812960735617e-285\n",
            "Generation = 308 f(x) = 4.5068863386792083e-287\n",
            "Generation = 309 f(x) = 2.0493111618123168e-287\n",
            "Generation = 310 f(x) = 9.061305911827658e-288\n",
            "Generation = 311 f(x) = 9.773872445950623e-290\n",
            "Generation = 312 f(x) = 1.812932514881217e-291\n",
            "Generation = 313 f(x) = 5.794630476046249e-293\n",
            "Generation = 314 f(x) = 5.398933531959507e-293\n",
            "Generation = 315 f(x) = 5.025404415230058e-293\n",
            "Generation = 316 f(x) = 9.713664591366441e-294\n",
            "Generation = 317 f(x) = 4.201375177968454e-294\n",
            "Generation = 318 f(x) = 2.457874407441691e-294\n",
            "Generation = 319 f(x) = 1.1759713376179978e-294\n",
            "Generation = 320 f(x) = 5.378111928480573e-295\n",
            "Generation = 321 f(x) = 5.061093160386613e-295\n",
            "Generation = 322 f(x) = 2.1527604370644973e-296\n",
            "Generation = 323 f(x) = 1.5641766222226265e-297\n",
            "Generation = 324 f(x) = 5.4264980901626084e-300\n",
            "Generation = 325 f(x) = 4.611843266627879e-300\n",
            "Generation = 326 f(x) = 1.0171806073076758e-300\n",
            "Generation = 327 f(x) = 6.797250226394506e-306\n",
            "Generation = 328 f(x) = 5.98634776933326e-306\n",
            "Generation = 329 f(x) = 5.652348451660473e-306\n",
            "Generation = 330 f(x) = 2.7167307700242777e-306\n",
            "Generation = 331 f(x) = 1.416735681924474e-306\n",
            "Generation = 332 f(x) = 1.416735681924474e-306\n",
            "Generation = 333 f(x) = 1.401717032917276e-308\n",
            "Generation = 334 f(x) = 8.63628393332763e-309\n",
            "Generation = 335 f(x) = 3.854853185851783e-309\n",
            "Generation = 336 f(x) = 3.442756502575e-311\n",
            "Generation = 337 f(x) = 4.0847478018e-313\n",
            "Generation = 338 f(x) = 2.49468606633e-313\n",
            "Generation = 339 f(x) = 5.0277022724e-314\n",
            "Generation = 340 f(x) = 1.13230824e-316\n",
            "Generation = 341 f(x) = 3.0199684e-317\n",
            "Generation = 342 f(x) = 1.216844e-318\n",
            "Generation = 343 f(x) = 6.7775e-319\n",
            "Generation = 344 f(x) = 1.17197e-319\n",
            "Generation = 345 f(x) = 6.4e-323\n",
            "Generation = 346 f(x) = 5e-323\n",
            "Generation = 347 f(x) = 0.0\n",
            "Generation = 348 f(x) = 0.0\n",
            "Generation = 349 f(x) = 0.0\n",
            "Generation = 350 f(x) = 0.0\n",
            "Generation = 351 f(x) = 0.0\n",
            "Generation = 352 f(x) = 0.0\n",
            "Generation = 353 f(x) = 0.0\n",
            "Generation = 354 f(x) = 0.0\n",
            "Generation = 355 f(x) = 0.0\n",
            "Best Solution: [ 1.02383684e-162 -2.78981709e-172  0.00000000e+000]\n",
            "[ 1.02383684e-162 -2.78981709e-172]\n"
          ]
        }
      ]
    },
    {
      "cell_type": "code",
      "source": [
        "import numpy as np\n",
        "\n",
        "# Define the objective function\n",
        "def objective_function(X):\n",
        "    \"\"\"Objective function to be minimized.\"\"\"\n",
        "    W1, b1, W2, b2 = vector2weights(X)\n",
        "    Z1, A1, Z2, A2 = forward_prop(W1, b1, W2, b2, X_train)\n",
        "    predictions = np.argmax(A2, axis=0)\n",
        "    return -np.sum(predictions == Y_train) / Y_train.size  # Negate accuracy since we are minimizing\n",
        "\n",
        "class KrillHerd:\n",
        "    def __init__(self, population_size=15, min_values=None, max_values=None, generations=500, c_t=1, target_function=None,target_value=None , verbose=True):\n",
        "        self.population_size = population_size\n",
        "        self.min_values = np.array(min_values)\n",
        "        self.max_values = np.array(max_values)\n",
        "        self.generations = generations\n",
        "        self.target_value = target_value\n",
        "        self.c_t = np.clip(c_t, 0, 2)\n",
        "        self.target_function = target_function if target_function else self.target_function\n",
        "        self.verbose = verbose\n",
        "\n",
        "    @staticmethod\n",
        "    def target_function(x):\n",
        "        return\n",
        "\n",
        "    def initialize_variables(self):\n",
        "        dim = len(self.min_values)\n",
        "        population = np.random.uniform(self.min_values, self.max_values, (self.population_size, dim))\n",
        "        fitness_values = np.apply_along_axis(self.target_function, 1, population)\n",
        "        population = np.hstack((population, fitness_values[:, np.newaxis]))\n",
        "        return population\n",
        "\n",
        "    @staticmethod\n",
        "    def build_distance_matrix(population):\n",
        "        a = np.copy(population[:, :-1])\n",
        "        b = a.reshape(np.prod(a.shape[:-1]), 1, a.shape[-1])\n",
        "        return np.sqrt(np.einsum('ijk,ijk->ij', b - a, b - a)).squeeze()\n",
        "\n",
        "    def motion_induced_process(self, population, population_n, best_ind, worst_ind, c):\n",
        "        n_max = 0.01\n",
        "        num_features = population.shape[1] - 1\n",
        "        dtm = self.build_distance_matrix(population)\n",
        "        np.fill_diagonal(dtm, float('+inf'))\n",
        "        for i in range(population.shape[0]):\n",
        "            idx = np.argpartition(dtm[i, :], int(num_features / 5))[:int(num_features / 5)]\n",
        "            k_ij = np.sum((population_n[i, -1] - population_n[idx, -1]) / (-best_ind[-1] + worst_ind[-1] + 1e-16))\n",
        "            x_ij = np.sum((population_n[idx, :-1] - population_n[i, :-1]) / (dtm[i, idx][:, np.newaxis] + 1e-16), axis=0)\n",
        "            a_iL = k_ij * x_ij\n",
        "            rand = np.random.rand()\n",
        "            a_i = a_iL + 2 * (rand + c) * best_ind[-1] * best_ind[:-1]\n",
        "            w_vector = np.random.rand(num_features)\n",
        "            population_n[i, :-1] = np.clip(a_i * n_max + w_vector * population_n[i, :-1], self.min_values, self.max_values)\n",
        "            population_n[i, -1] = self.target_function(population_n[i, :-1])\n",
        "        return population_n\n",
        "\n",
        "    def foraging_motion(self, population, population_f, best_ind, c):\n",
        "        num_features = len(self.min_values)\n",
        "        x_if = best_ind[:-1] * (1 / (best_ind[-1] + 1e-16))\n",
        "        x_if = x_if / (1 / (best_ind[-1] + 1e-16))\n",
        "        k_if = self.target_function(x_if)\n",
        "        v_f = 0.02\n",
        "        c_f = 2 * (1 - c)\n",
        "        b_i = c_f * k_if * x_if + best_ind[-1] * best_ind[:-1]\n",
        "        for i in range(population.shape[0]):\n",
        "            w_vector = np.random.rand(num_features)\n",
        "            population_f[i, :-1] = np.clip(v_f * b_i + w_vector * population_f[i, :-1], self.min_values, self.max_values)\n",
        "            population_f[i, -1] = self.target_function(population_f[i, :-1])\n",
        "        return population_f\n",
        "\n",
        "    def physical_difusion(self, population, c):\n",
        "        num_features = population.shape[1] - 1\n",
        "        d_max = np.random.uniform(0.002, 0.010, size=(population.shape[0], 1))\n",
        "        random_diffusion = np.random.uniform(-1, 1, size=(population.shape[0], num_features))\n",
        "        population_d = np.zeros_like(population)\n",
        "        population_d[:, :-1] = np.clip(d_max * random_diffusion * (1 - c), self.min_values, self.max_values)\n",
        "        for i in range(population.shape[0]):\n",
        "            population_d[i, -1] = self.target_function(population_d[i, :-1])\n",
        "        return population_d\n",
        "\n",
        "    def update_position(self, population, population_n, population_f, population_d, c):\n",
        "        old_population = np.copy(population)\n",
        "        delta_t = c * np.sum(self.max_values - self.min_values)\n",
        "        population[:, :-1] = np.clip(population[:, :-1] + delta_t * (population_n[:, :-1] + population_f[:, :-1] + population_d[:, :-1]), self.min_values, self.max_values)\n",
        "        population[:, -1] = np.apply_along_axis(self.target_function, 1, population[:, :-1])\n",
        "        population = np.vstack([old_population, population, population_n, population_f, population_d])\n",
        "        population = population[population[:, -1].argsort()]\n",
        "        return population[:old_population.shape[0], :]\n",
        "\n",
        "    @staticmethod\n",
        "    def fitness_function(population):\n",
        "        fitness = np.zeros((population.shape[0], 2))\n",
        "        for i in range(fitness.shape[0]):\n",
        "            fitness[i, 0] = 1 / (1 + population[i, -1] + abs(population[:, -1].min()))\n",
        "        fit_sum = fitness[:, 0].sum()\n",
        "        fitness[0, 1] = fitness[0, 0]\n",
        "        for i in range(1, fitness.shape[0]):\n",
        "            fitness[i, 1] = fitness[i, 0] + fitness[i - 1, 1]\n",
        "        for i in range(fitness.shape[0]):\n",
        "            fitness[i, 1] = fitness[i, 1] / fit_sum\n",
        "        return fitness\n",
        "\n",
        "    @staticmethod\n",
        "    def roulette_wheel(fitness):\n",
        "        ix = 0\n",
        "        random = np.random.rand()\n",
        "        for i in range(fitness.shape[0]):\n",
        "            if random <= fitness[i, 1]:\n",
        "                ix = i\n",
        "                break\n",
        "        return ix\n",
        "\n",
        "    def breeding(self, population, fitness, mu, elite):\n",
        "        offspring = np.copy(population)\n",
        "        if elite > 0:\n",
        "            preserve = np.copy(population[population[:, -1].argsort()])\n",
        "            for i in range(elite):\n",
        "                for j in range(offspring.shape[1]):\n",
        "                    offspring[i, j] = preserve[i, j]\n",
        "        for i in range(elite, offspring.shape[0]):\n",
        "            parent_1, parent_2 = self.roulette_wheel(fitness), self.roulette_wheel(fitness)\n",
        "            while parent_1 == parent_2:\n",
        "                parent_2 = np.random.choice(len(population) - 1)\n",
        "            for j in range(offspring.shape[1] - 1):\n",
        "                rand = np.random.rand()\n",
        "                rand_b = np.random.rand()\n",
        "                rand_c = np.random.rand()\n",
        "                b_offspring = 2 * rand_b if rand <= 0.5 else 1 / (2 * (1 - rand_b))\n",
        "                b_offspring = b_offspring ** (1 / (mu + 1))\n",
        "                offspring[i, j] = np.clip(\n",
        "                    ((1 + b_offspring) * population[parent_1, j] + (1 - b_offspring) * population[parent_2, j]) / 2\n",
        "                    if rand_c >= 0.5 else\n",
        "                    ((1 - b_offspring) * population[parent_1, j] + (1 + b_offspring) * population[parent_2, j]) / 2,\n",
        "                    self.min_values[j],\n",
        "                    self.max_values[j]\n",
        "                )\n",
        "            offspring[i, -1] = self.target_function(offspring[i, :-1])\n",
        "        return offspring\n",
        "\n",
        "    def mutation(self, offspring, mutation_rate, eta):\n",
        "        for i in range(offspring.shape[0]):\n",
        "            for j in range(offspring.shape[1] - 1):\n",
        "                probability = np.random.rand()\n",
        "                if probability < mutation_rate:\n",
        "                    rand = np.random.rand()\n",
        "                    rand_d = np.random.rand()\n",
        "                    d_mutation = 2 * rand_d if rand <= 0.5 else 2 * (1 - rand_d)\n",
        "                    d_mutation = d_mutation ** (1 / (eta + 1)) - 1 if rand <= 0.5 else 1 - d_mutation ** (1 / (eta + 1))\n",
        "                    offspring[i, j] = np.clip(offspring[i, j] + d_mutation, self.min_values[j], self.max_values[j])\n",
        "            offspring[i, -1] = self.target_function(offspring[i, :-1])\n",
        "        return offspring\n",
        "\n",
        "    def run(self):\n",
        "        population = self.initialize_variables()\n",
        "        best_ind = np.copy(population[np.argmin(population[:, -1]), :])\n",
        "        worst_ind = np.copy(population[np.argmax(population[:, -1]), :])\n",
        "        population_n = np.zeros_like(population)\n",
        "        population_f = np.copy(population)\n",
        "        population_d = np.zeros_like(population)\n",
        "        count = 0\n",
        "\n",
        "        while count <= self.generations:\n",
        "            c = count / self.generations\n",
        "            if self.verbose:\n",
        "                print('Generation =', count, 'f(x) =', best_ind[-1])\n",
        "            population_n = self.motion_induced_process(population, population_n, best_ind, worst_ind, c)\n",
        "            population_f = self.foraging_motion(population, population_f, best_ind, c)\n",
        "            population_d = self.physical_difusion(population, c)\n",
        "            population = self.update_position(population, population_n, population_f, population_d, self.c_t)\n",
        "            if np.random.rand() <= 0.2:\n",
        "                fitness = self.fitness_function(population)\n",
        "                offspring = self.breeding(population, fitness, 1, 1)\n",
        "                population = self.mutation(offspring, 0.05, 1)\n",
        "            best_loc = population[np.argmin(population[:, -1]), :]\n",
        "            worst_ind = np.copy(population[np.argmax(population[:, -1]), :])\n",
        "            if best_loc[-1] < best_ind[-1]:\n",
        "                best_ind = np.copy(best_loc)\n",
        "            if self.target_value is not None and best_ind[-1] <= self.target_value:\n",
        "                break\n",
        "            count += 1\n",
        "\n",
        "        return best_ind\n",
        "\n",
        "\n",
        "\n"
      ],
      "metadata": {
        "id": "H1PlxNqAYSqi"
      },
      "execution_count": null,
      "outputs": []
    },
    {
      "cell_type": "code",
      "source": [
        "# def new_objective_function(x):\n",
        "#     return x[0]**2 + x[1]**2 + x[2]**2\n",
        "\n",
        "# Define the problem-specific parameters\n",
        "num_dimensions = 40 + 10 + 30 + 3  # Adjust this based on your vectorized weights dimensions\n",
        "min_values = [-100] * num_dimensions\n",
        "max_values = [100] * num_dimensions\n",
        "\n",
        "# Create the Krill Herd Algorithm instance\n",
        "kha = KrillHerd(\n",
        "    population_size=100,\n",
        "    min_values=min_values,\n",
        "    max_values=max_values,\n",
        "    generations=200,\n",
        "    target_function=objective_function,\n",
        "    verbose=True\n",
        ")\n",
        "start_1 = t.time()\n",
        "# Run the optimization\n",
        "best_solution = kha.run()\n",
        "print(\" the Krill herd algorithm expended \" , t.time()-start_1)\n",
        "print(\"Best Solution:\", best_solution[:-1])\n",
        "print(\"Best Objective Value (Accuracy):\", -best_solution[-1])  # Negate back to get accuracya"
      ],
      "metadata": {
        "colab": {
          "base_uri": "https://localhost:8080/"
        },
        "id": "idI6-52LZuwZ",
        "outputId": "02bf81d5-3849-4534-866e-6e0a709e0ab4"
      },
      "execution_count": null,
      "outputs": [
        {
          "output_type": "stream",
          "name": "stdout",
          "text": [
            "Generation = 0 f(x) = -0.85\n",
            "Generation = 1 f(x) = -0.85\n"
          ]
        },
        {
          "output_type": "stream",
          "name": "stderr",
          "text": [
            "<ipython-input-502-b705f9cde714>:12: RuntimeWarning: overflow encountered in exp\n",
            "  A = np.exp(Z) / sum(np.exp(Z))\n",
            "<ipython-input-502-b705f9cde714>:12: RuntimeWarning: invalid value encountered in divide\n",
            "  A = np.exp(Z) / sum(np.exp(Z))\n"
          ]
        },
        {
          "output_type": "stream",
          "name": "stdout",
          "text": [
            "Generation = 2 f(x) = -0.85\n",
            "Generation = 3 f(x) = -0.85\n",
            "Generation = 4 f(x) = -0.85\n",
            "Generation = 5 f(x) = -0.85\n",
            "Generation = 6 f(x) = -0.85\n",
            "Generation = 7 f(x) = -0.85\n",
            "Generation = 8 f(x) = -0.85\n",
            "Generation = 9 f(x) = -0.85\n",
            "Generation = 10 f(x) = -0.85\n",
            "Generation = 11 f(x) = -0.85\n",
            "Generation = 12 f(x) = -0.85\n",
            "Generation = 13 f(x) = -0.85\n",
            "Generation = 14 f(x) = -0.85\n",
            "Generation = 15 f(x) = -0.85\n",
            "Generation = 16 f(x) = -0.85\n",
            "Generation = 17 f(x) = -0.85\n",
            "Generation = 18 f(x) = -0.85\n",
            "Generation = 19 f(x) = -0.85\n",
            "Generation = 20 f(x) = -0.85\n",
            "Generation = 21 f(x) = -0.85\n",
            "Generation = 22 f(x) = -0.85\n",
            "Generation = 23 f(x) = -0.85\n",
            "Generation = 24 f(x) = -0.85\n",
            "Generation = 25 f(x) = -0.85\n",
            "Generation = 26 f(x) = -0.85\n",
            "Generation = 27 f(x) = -0.85\n",
            "Generation = 28 f(x) = -0.85\n",
            "Generation = 29 f(x) = -0.85\n",
            "Generation = 30 f(x) = -0.85\n",
            "Generation = 31 f(x) = -0.85\n",
            "Generation = 32 f(x) = -0.85\n",
            "Generation = 33 f(x) = -0.85\n",
            "Generation = 34 f(x) = -0.85\n",
            "Generation = 35 f(x) = -0.85\n",
            "Generation = 36 f(x) = -0.85\n",
            "Generation = 37 f(x) = -0.85\n",
            "Generation = 38 f(x) = -0.85\n",
            "Generation = 39 f(x) = -0.85\n",
            "Generation = 40 f(x) = -0.85\n",
            "Generation = 41 f(x) = -0.85\n",
            "Generation = 42 f(x) = -0.85\n",
            "Generation = 43 f(x) = -0.85\n",
            "Generation = 44 f(x) = -0.85\n",
            "Generation = 45 f(x) = -0.85\n",
            "Generation = 46 f(x) = -0.85\n",
            "Generation = 47 f(x) = -0.85\n",
            "Generation = 48 f(x) = -0.85\n",
            "Generation = 49 f(x) = -0.85\n",
            "Generation = 50 f(x) = -0.85\n",
            "Generation = 51 f(x) = -0.85\n",
            "Generation = 52 f(x) = -0.85\n",
            "Generation = 53 f(x) = -0.85\n",
            "Generation = 54 f(x) = -0.85\n",
            "Generation = 55 f(x) = -0.85\n",
            "Generation = 56 f(x) = -0.85\n",
            "Generation = 57 f(x) = -0.85\n",
            "Generation = 58 f(x) = -0.85\n",
            "Generation = 59 f(x) = -0.85\n",
            "Generation = 60 f(x) = -0.85\n",
            "Generation = 61 f(x) = -0.85\n",
            "Generation = 62 f(x) = -0.85\n",
            "Generation = 63 f(x) = -0.85\n",
            "Generation = 64 f(x) = -0.85\n",
            "Generation = 65 f(x) = -0.85\n",
            "Generation = 66 f(x) = -0.85\n",
            "Generation = 67 f(x) = -0.85\n",
            "Generation = 68 f(x) = -0.85\n",
            "Generation = 69 f(x) = -0.85\n",
            "Generation = 70 f(x) = -0.85\n",
            "Generation = 71 f(x) = -0.85\n",
            "Generation = 72 f(x) = -0.85\n",
            "Generation = 73 f(x) = -0.85\n",
            "Generation = 74 f(x) = -0.85\n",
            "Generation = 75 f(x) = -0.85\n",
            "Generation = 76 f(x) = -0.85\n",
            "Generation = 77 f(x) = -0.85\n",
            "Generation = 78 f(x) = -0.85\n",
            "Generation = 79 f(x) = -0.85\n",
            "Generation = 80 f(x) = -0.85\n",
            "Generation = 81 f(x) = -0.85\n",
            "Generation = 82 f(x) = -0.85\n",
            "Generation = 83 f(x) = -0.85\n",
            "Generation = 84 f(x) = -0.85\n",
            "Generation = 85 f(x) = -0.85\n",
            "Generation = 86 f(x) = -0.85\n",
            "Generation = 87 f(x) = -0.85\n",
            "Generation = 88 f(x) = -0.85\n",
            "Generation = 89 f(x) = -0.85\n",
            "Generation = 90 f(x) = -0.85\n",
            "Generation = 91 f(x) = -0.85\n",
            "Generation = 92 f(x) = -0.85\n",
            "Generation = 93 f(x) = -0.85\n",
            "Generation = 94 f(x) = -0.85\n",
            "Generation = 95 f(x) = -0.9\n",
            "Generation = 96 f(x) = -0.9\n",
            "Generation = 97 f(x) = -0.9\n",
            "Generation = 98 f(x) = -0.9\n",
            "Generation = 99 f(x) = -0.9\n",
            "Generation = 100 f(x) = -0.9\n",
            "Generation = 101 f(x) = -0.9\n",
            "Generation = 102 f(x) = -0.9\n",
            "Generation = 103 f(x) = -0.9\n",
            "Generation = 104 f(x) = -0.925\n",
            "Generation = 105 f(x) = -0.925\n",
            "Generation = 106 f(x) = -0.925\n",
            "Generation = 107 f(x) = -0.925\n",
            "Generation = 108 f(x) = -0.925\n",
            "Generation = 109 f(x) = -0.925\n",
            "Generation = 110 f(x) = -0.925\n",
            "Generation = 111 f(x) = -0.925\n",
            "Generation = 112 f(x) = -0.925\n",
            "Generation = 113 f(x) = -0.925\n",
            "Generation = 114 f(x) = -0.925\n",
            "Generation = 115 f(x) = -0.925\n",
            "Generation = 116 f(x) = -0.925\n",
            "Generation = 117 f(x) = -0.925\n",
            "Generation = 118 f(x) = -0.925\n",
            "Generation = 119 f(x) = -0.925\n",
            "Generation = 120 f(x) = -0.925\n",
            "Generation = 121 f(x) = -0.925\n",
            "Generation = 122 f(x) = -0.925\n",
            "Generation = 123 f(x) = -0.925\n",
            "Generation = 124 f(x) = -0.925\n",
            "Generation = 125 f(x) = -0.925\n",
            "Generation = 126 f(x) = -0.925\n",
            "Generation = 127 f(x) = -0.925\n",
            "Generation = 128 f(x) = -0.925\n",
            "Generation = 129 f(x) = -0.925\n",
            "Generation = 130 f(x) = -0.925\n",
            "Generation = 131 f(x) = -0.925\n",
            "Generation = 132 f(x) = -0.925\n",
            "Generation = 133 f(x) = -0.925\n",
            "Generation = 134 f(x) = -0.925\n",
            "Generation = 135 f(x) = -0.925\n",
            "Generation = 136 f(x) = -0.925\n",
            "Generation = 137 f(x) = -0.925\n",
            "Generation = 138 f(x) = -0.925\n",
            "Generation = 139 f(x) = -0.925\n",
            "Generation = 140 f(x) = -0.925\n",
            "Generation = 141 f(x) = -0.925\n",
            "Generation = 142 f(x) = -0.925\n",
            "Generation = 143 f(x) = -0.925\n",
            "Generation = 144 f(x) = -0.925\n",
            "Generation = 145 f(x) = -0.925\n",
            "Generation = 146 f(x) = -0.925\n",
            "Generation = 147 f(x) = -0.925\n",
            "Generation = 148 f(x) = -0.925\n",
            "Generation = 149 f(x) = -0.925\n",
            "Generation = 150 f(x) = -0.925\n",
            "Generation = 151 f(x) = -0.925\n",
            "Generation = 152 f(x) = -0.925\n",
            "Generation = 153 f(x) = -0.925\n",
            "Generation = 154 f(x) = -0.925\n",
            "Generation = 155 f(x) = -0.925\n",
            "Generation = 156 f(x) = -0.925\n",
            "Generation = 157 f(x) = -0.925\n",
            "Generation = 158 f(x) = -0.925\n",
            "Generation = 159 f(x) = -0.925\n",
            "Generation = 160 f(x) = -0.925\n",
            "Generation = 161 f(x) = -0.925\n",
            "Generation = 162 f(x) = -0.925\n",
            "Generation = 163 f(x) = -0.925\n",
            "Generation = 164 f(x) = -0.925\n",
            "Generation = 165 f(x) = -0.925\n",
            "Generation = 166 f(x) = -0.925\n",
            "Generation = 167 f(x) = -0.925\n",
            "Generation = 168 f(x) = -0.925\n",
            "Generation = 169 f(x) = -0.925\n",
            "Generation = 170 f(x) = -0.925\n",
            "Generation = 171 f(x) = -0.925\n",
            "Generation = 172 f(x) = -0.925\n",
            "Generation = 173 f(x) = -0.925\n",
            "Generation = 174 f(x) = -0.925\n",
            "Generation = 175 f(x) = -0.925\n",
            "Generation = 176 f(x) = -0.9333333333333333\n",
            "Generation = 177 f(x) = -0.9333333333333333\n",
            "Generation = 178 f(x) = -0.9333333333333333\n",
            "Generation = 179 f(x) = -0.9333333333333333\n",
            "Generation = 180 f(x) = -0.9333333333333333\n",
            "Generation = 181 f(x) = -0.9333333333333333\n",
            "Generation = 182 f(x) = -0.9333333333333333\n",
            "Generation = 183 f(x) = -0.9333333333333333\n",
            "Generation = 184 f(x) = -0.9333333333333333\n",
            "Generation = 185 f(x) = -0.9333333333333333\n",
            "Generation = 186 f(x) = -0.9333333333333333\n",
            "Generation = 187 f(x) = -0.9333333333333333\n",
            "Generation = 188 f(x) = -0.9333333333333333\n",
            "Generation = 189 f(x) = -0.9333333333333333\n",
            "Generation = 190 f(x) = -0.9333333333333333\n",
            "Generation = 191 f(x) = -0.9333333333333333\n",
            "Generation = 192 f(x) = -0.9333333333333333\n",
            "Generation = 193 f(x) = -0.9333333333333333\n",
            "Generation = 194 f(x) = -0.9333333333333333\n",
            "Generation = 195 f(x) = -0.9333333333333333\n",
            "Generation = 196 f(x) = -0.9333333333333333\n",
            "Generation = 197 f(x) = -0.9333333333333333\n",
            "Generation = 198 f(x) = -0.9333333333333333\n",
            "Generation = 199 f(x) = -0.9333333333333333\n",
            "Generation = 200 f(x) = -0.9333333333333333\n",
            " the Krill herd algorithm expended  15.560106039047241\n",
            "Best Solution: [-100.          100.           86.49996282  -93.26478855  100.\n",
            "  100.          100.          -74.4809617   100.           18.40348205\n",
            " -100.         -100.           81.25571323  -97.4126035   100.\n",
            "  100.          100.         -100.         -100.          100.\n",
            "   87.80768267  100.         -100.         -100.         -100.\n",
            "  100.           80.43899278  -76.36488314 -100.         -100.\n",
            "  100.         -100.         -100.          100.          100.\n",
            "  100.         -100.          100.          100.           92.9142202\n",
            " -100.         -100.          -81.24892938 -100.         -100.\n",
            "  100.           86.33326096  100.           60.6314977   -95.46164691\n",
            "  -93.17045065 -100.          100.          100.           82.34585552\n",
            "  100.          100.          -91.6386034  -100.         -100.\n",
            "  -99.81701123  -83.68524791  100.         -100.         -100.\n",
            " -100.           73.78168671  100.         -100.          100.\n",
            "  100.         -100.           35.50156007 -100.         -100.\n",
            " -100.          100.           93.28365886  -79.50119281  100.\n",
            " -100.          100.           79.76393853]\n",
            "Best Objective Value (Accuracy): 0.9333333333333333\n"
          ]
        }
      ]
    },
    {
      "cell_type": "code",
      "source": [
        "import numpy as np\n",
        "\n",
        "# Given array\n",
        "array = np.array(best_solution[:-1])\n",
        "\n",
        "# Min-max normalization\n",
        "normalized_array = (array - np.min(array)) / (np.max(array) - np.min(array))\n",
        "\n",
        "print(\"Normalized Array:\")\n",
        "print(normalized_array)\n"
      ],
      "metadata": {
        "colab": {
          "base_uri": "https://localhost:8080/"
        },
        "id": "brA__d37f1yf",
        "outputId": "2e268f50-c7ed-444d-f918-4d99c6c18616"
      },
      "execution_count": null,
      "outputs": [
        {
          "output_type": "stream",
          "name": "stdout",
          "text": [
            "Normalized Array:\n",
            "[0.00000000e+00 1.00000000e+00 9.32499814e-01 3.36760573e-02\n",
            " 1.00000000e+00 1.00000000e+00 1.00000000e+00 1.27595191e-01\n",
            " 1.00000000e+00 5.92017410e-01 0.00000000e+00 0.00000000e+00\n",
            " 9.06278566e-01 1.29369825e-02 1.00000000e+00 1.00000000e+00\n",
            " 1.00000000e+00 0.00000000e+00 0.00000000e+00 1.00000000e+00\n",
            " 9.39038413e-01 1.00000000e+00 7.10542736e-17 7.10542736e-17\n",
            " 0.00000000e+00 1.00000000e+00 9.02194964e-01 1.18175584e-01\n",
            " 0.00000000e+00 0.00000000e+00 1.00000000e+00 0.00000000e+00\n",
            " 0.00000000e+00 1.00000000e+00 1.00000000e+00 1.00000000e+00\n",
            " 0.00000000e+00 1.00000000e+00 1.00000000e+00 9.64571101e-01\n",
            " 0.00000000e+00 0.00000000e+00 9.37553531e-02 0.00000000e+00\n",
            " 0.00000000e+00 1.00000000e+00 9.31666305e-01 1.00000000e+00\n",
            " 8.03157488e-01 2.26917654e-02 3.41477468e-02 0.00000000e+00\n",
            " 1.00000000e+00 1.00000000e+00 9.11729278e-01 1.00000000e+00\n",
            " 1.00000000e+00 4.18069830e-02 0.00000000e+00 0.00000000e+00\n",
            " 9.14943850e-04 8.15737604e-02 1.00000000e+00 0.00000000e+00\n",
            " 0.00000000e+00 0.00000000e+00 8.68908434e-01 1.00000000e+00\n",
            " 0.00000000e+00 1.00000000e+00 1.00000000e+00 0.00000000e+00\n",
            " 6.77507800e-01 0.00000000e+00 0.00000000e+00 0.00000000e+00\n",
            " 1.00000000e+00 9.66418294e-01 1.02494036e-01 1.00000000e+00\n",
            " 0.00000000e+00 1.00000000e+00 8.98819693e-01]\n"
          ]
        }
      ]
    },
    {
      "cell_type": "code",
      "source": [
        " W1,b1,W2,b2 = vector2weights(normalized_array)\n",
        " W1,b1,W2,b2"
      ],
      "metadata": {
        "colab": {
          "base_uri": "https://localhost:8080/"
        },
        "id": "u37ztCm2bLiw",
        "outputId": "2c0eeffc-de12-4c7e-8758-80454fc2fb76"
      },
      "execution_count": null,
      "outputs": [
        {
          "output_type": "execute_result",
          "data": {
            "text/plain": [
              "(array([[0.00000000e+00, 1.00000000e+00, 9.32499814e-01, 3.36760573e-02],\n",
              "        [1.00000000e+00, 1.00000000e+00, 1.00000000e+00, 1.27595191e-01],\n",
              "        [1.00000000e+00, 5.92017410e-01, 0.00000000e+00, 0.00000000e+00],\n",
              "        [9.06278566e-01, 1.29369825e-02, 1.00000000e+00, 1.00000000e+00],\n",
              "        [1.00000000e+00, 0.00000000e+00, 0.00000000e+00, 1.00000000e+00],\n",
              "        [9.39038413e-01, 1.00000000e+00, 7.10542736e-17, 7.10542736e-17],\n",
              "        [0.00000000e+00, 1.00000000e+00, 9.02194964e-01, 1.18175584e-01],\n",
              "        [0.00000000e+00, 0.00000000e+00, 1.00000000e+00, 0.00000000e+00],\n",
              "        [0.00000000e+00, 1.00000000e+00, 1.00000000e+00, 1.00000000e+00],\n",
              "        [0.00000000e+00, 1.00000000e+00, 1.00000000e+00, 9.64571101e-01]]),\n",
              " array([[0.        ],\n",
              "        [0.        ],\n",
              "        [0.09375535],\n",
              "        [0.        ],\n",
              "        [0.        ],\n",
              "        [1.        ],\n",
              "        [0.9316663 ],\n",
              "        [1.        ],\n",
              "        [0.80315749],\n",
              "        [0.02269177]]),\n",
              " array([[3.41477468e-02, 0.00000000e+00, 1.00000000e+00],\n",
              "        [1.00000000e+00, 9.11729278e-01, 1.00000000e+00],\n",
              "        [1.00000000e+00, 4.18069830e-02, 0.00000000e+00],\n",
              "        [0.00000000e+00, 9.14943850e-04, 8.15737604e-02],\n",
              "        [1.00000000e+00, 0.00000000e+00, 0.00000000e+00],\n",
              "        [0.00000000e+00, 8.68908434e-01, 1.00000000e+00],\n",
              "        [0.00000000e+00, 1.00000000e+00, 1.00000000e+00],\n",
              "        [0.00000000e+00, 6.77507800e-01, 0.00000000e+00],\n",
              "        [0.00000000e+00, 0.00000000e+00, 1.00000000e+00],\n",
              "        [9.66418294e-01, 1.02494036e-01, 1.00000000e+00]]),\n",
              " array([[0.        ],\n",
              "        [1.        ],\n",
              "        [0.89881969]]))"
            ]
          },
          "metadata": {},
          "execution_count": 518
        }
      ]
    },
    {
      "cell_type": "code",
      "source": [
        " W1,b1,W2,b2 = vector2weights(best_solution[:-1])\n",
        " W1,b1,W2,b2"
      ],
      "metadata": {
        "colab": {
          "base_uri": "https://localhost:8080/"
        },
        "id": "ZqGqpM1dgWsj",
        "outputId": "fbc5bbc5-23c2-4abe-c5b0-dd023584bb83"
      },
      "execution_count": null,
      "outputs": [
        {
          "output_type": "execute_result",
          "data": {
            "text/plain": [
              "(array([[-100.        ,  100.        ,   86.49996282,  -93.26478855],\n",
              "        [ 100.        ,  100.        ,  100.        ,  -74.4809617 ],\n",
              "        [ 100.        ,   18.40348205, -100.        , -100.        ],\n",
              "        [  81.25571323,  -97.4126035 ,  100.        ,  100.        ],\n",
              "        [ 100.        , -100.        , -100.        ,  100.        ],\n",
              "        [  87.80768267,  100.        , -100.        , -100.        ],\n",
              "        [-100.        ,  100.        ,   80.43899278,  -76.36488314],\n",
              "        [-100.        , -100.        ,  100.        , -100.        ],\n",
              "        [-100.        ,  100.        ,  100.        ,  100.        ],\n",
              "        [-100.        ,  100.        ,  100.        ,   92.9142202 ]]),\n",
              " array([[-100.        ],\n",
              "        [-100.        ],\n",
              "        [ -81.24892938],\n",
              "        [-100.        ],\n",
              "        [-100.        ],\n",
              "        [ 100.        ],\n",
              "        [  86.33326096],\n",
              "        [ 100.        ],\n",
              "        [  60.6314977 ],\n",
              "        [ -95.46164691]]),\n",
              " array([[ -93.17045065, -100.        ,  100.        ],\n",
              "        [ 100.        ,   82.34585552,  100.        ],\n",
              "        [ 100.        ,  -91.6386034 , -100.        ],\n",
              "        [-100.        ,  -99.81701123,  -83.68524791],\n",
              "        [ 100.        , -100.        , -100.        ],\n",
              "        [-100.        ,   73.78168671,  100.        ],\n",
              "        [-100.        ,  100.        ,  100.        ],\n",
              "        [-100.        ,   35.50156007, -100.        ],\n",
              "        [-100.        , -100.        ,  100.        ],\n",
              "        [  93.28365886,  -79.50119281,  100.        ]]),\n",
              " array([[-100.        ],\n",
              "        [ 100.        ],\n",
              "        [  79.76393853]]))"
            ]
          },
          "metadata": {},
          "execution_count": 519
        }
      ]
    },
    {
      "cell_type": "code",
      "source": [
        "def make_predictions(X, W1, b1, W2, b2):\n",
        "    _, _, _, A2 = forward_prop(W1, b1, W2, b2, X)\n",
        "    predictions = get_predictions(A2)\n",
        "    return predictions"
      ],
      "metadata": {
        "id": "L7eLjaivhTsF"
      },
      "execution_count": null,
      "outputs": []
    },
    {
      "cell_type": "code",
      "source": [
        "\n",
        "def get_accuracy(predictions, Y):\n",
        "    #print(predictions, Y)\n",
        "    return np.sum(predictions == Y) / Y.size"
      ],
      "metadata": {
        "id": "APdXYtbmknJj"
      },
      "execution_count": null,
      "outputs": []
    },
    {
      "cell_type": "code",
      "source": [
        "start = t.time()\n",
        "predecitions  = make_predictions(X_train,W1, b1, W2, b2)\n",
        "print(get_accuracy(predecitions, Y_train))\n",
        "end = t.time()\n",
        "print(\"the time  expended for prediction using Krill Herd\" , end -start)"
      ],
      "metadata": {
        "colab": {
          "base_uri": "https://localhost:8080/"
        },
        "id": "ErsfUjYLlYDu",
        "outputId": "3b8a4dc0-ba97-4f76-a67f-5e01738f4409"
      },
      "execution_count": null,
      "outputs": [
        {
          "output_type": "stream",
          "name": "stdout",
          "text": [
            "0.9333333333333333\n",
            "the time  expended for prediction using Krill Herd 0.0032835006713867188\n"
          ]
        },
        {
          "output_type": "stream",
          "name": "stderr",
          "text": [
            "<ipython-input-502-b705f9cde714>:12: RuntimeWarning: overflow encountered in exp\n",
            "  A = np.exp(Z) / sum(np.exp(Z))\n",
            "<ipython-input-502-b705f9cde714>:12: RuntimeWarning: invalid value encountered in divide\n",
            "  A = np.exp(Z) / sum(np.exp(Z))\n"
          ]
        }
      ]
    },
    {
      "cell_type": "code",
      "source": [
        "dev_predictions = make_predictions(X_dev, W1, b1, W2, b2)\n",
        "get_accuracy(dev_predictions, Y_dev)"
      ],
      "metadata": {
        "colab": {
          "base_uri": "https://localhost:8080/"
        },
        "id": "cG2W-S4nmxjj",
        "outputId": "47425ecb-6486-4b85-d084-ff686d494674"
      },
      "execution_count": null,
      "outputs": [
        {
          "output_type": "stream",
          "name": "stderr",
          "text": [
            "<ipython-input-502-b705f9cde714>:12: RuntimeWarning: overflow encountered in exp\n",
            "  A = np.exp(Z) / sum(np.exp(Z))\n",
            "<ipython-input-502-b705f9cde714>:12: RuntimeWarning: invalid value encountered in divide\n",
            "  A = np.exp(Z) / sum(np.exp(Z))\n"
          ]
        },
        {
          "output_type": "execute_result",
          "data": {
            "text/plain": [
              "0.9666666666666667"
            ]
          },
          "metadata": {},
          "execution_count": 523
        }
      ]
    },
    {
      "cell_type": "code",
      "source": [
        "test_prediction(0, W1, b1, W2, b2)\n",
        "test_prediction(1, W1, b1, W2, b2)\n",
        "test_prediction(2, W1, b1, W2, b2)\n",
        "test_prediction(3, W1, b1, W2, b2)"
      ],
      "metadata": {
        "colab": {
          "base_uri": "https://localhost:8080/"
        },
        "id": "u5VaPOf_oGwb",
        "outputId": "bd6bb9a0-563d-4055-bb32-07377370fc6e"
      },
      "execution_count": null,
      "outputs": [
        {
          "output_type": "stream",
          "name": "stdout",
          "text": [
            "Prediction:  [1]\n",
            "Label:  1\n",
            "Prediction:  [1]\n",
            "Label:  1\n",
            "Prediction:  [1]\n",
            "Label:  1\n",
            "Prediction:  [1]\n",
            "Label:  1\n"
          ]
        },
        {
          "output_type": "stream",
          "name": "stderr",
          "text": [
            "<ipython-input-502-b705f9cde714>:12: RuntimeWarning: overflow encountered in exp\n",
            "  A = np.exp(Z) / sum(np.exp(Z))\n",
            "<ipython-input-502-b705f9cde714>:12: RuntimeWarning: invalid value encountered in divide\n",
            "  A = np.exp(Z) / sum(np.exp(Z))\n"
          ]
        }
      ]
    }
  ],
  "metadata": {
    "kernelspec": {
      "display_name": "Python 3 (ipykernel)",
      "language": "python",
      "name": "python3"
    },
    "language_info": {
      "codemirror_mode": {
        "name": "ipython",
        "version": 3
      },
      "file_extension": ".py",
      "mimetype": "text/x-python",
      "name": "python",
      "nbconvert_exporter": "python",
      "pygments_lexer": "ipython3",
      "version": "3.9.12"
    },
    "papermill": {
      "duration": 55.320944,
      "end_time": "2020-11-24T15:34:35.258832",
      "environment_variables": {},
      "exception": null,
      "input_path": "__notebook__.ipynb",
      "output_path": "__notebook__.ipynb",
      "parameters": {},
      "start_time": "2020-11-24T15:33:39.937888",
      "version": "2.1.0"
    },
    "colab": {
      "provenance": [],
      "include_colab_link": true
    }
  },
  "nbformat": 4,
  "nbformat_minor": 0
}